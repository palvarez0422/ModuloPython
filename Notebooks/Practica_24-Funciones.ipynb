{
 "cells": [
  {
   "cell_type": "markdown",
   "id": "b8b3820c",
   "metadata": {},
   "source": [
    "# Practica 24 - Funciones. 15 ejercicios para resolver solo 10."
   ]
  },
  {
   "cell_type": "markdown",
   "id": "51fd8a94",
   "metadata": {},
   "source": [
    "1 - Escribe un programa que defina una función crear_lista( ) para crear y devolver una lista que sea la combinación de dos listas que se le pasen."
   ]
  },
  {
   "cell_type": "code",
   "execution_count": 29,
   "id": "411e44c4",
   "metadata": {},
   "outputs": [
    {
     "name": "stdout",
     "output_type": "stream",
     "text": [
      "None\n"
     ]
    }
   ],
   "source": [
    "def crear_lista(list1:list, list2:list):\n",
    "    list3 = list1.extend(list2)\n",
    "    return list3\n",
    "\n",
    "lista1 = [1,2,3,4,5]\n",
    "lista2 = [1,2,3,4,5,6,7,8]\n",
    "\n",
    "lista3 = crear_lista(lista1, lista2)\n",
    "print(lista3)"
   ]
  },
  {
   "cell_type": "markdown",
   "id": "1aa4b8b7",
   "metadata": {},
   "source": [
    "2- Escribe una programa que defina una funcion que haga conversiones de precios de moneda. Se le pide al usuario que introduzca la cantidad en euros y que introduzca la divisa a la que quiere convertir. Use por lo menos dos divisas mas: Dolár y Francos por ejemplo. Imprima los resultados."
   ]
  },
  {
   "cell_type": "code",
   "execution_count": null,
   "id": "cfa89752",
   "metadata": {},
   "outputs": [],
   "source": []
  },
  {
   "cell_type": "markdown",
   "id": "e8e0284d",
   "metadata": {},
   "source": [
    "3- Escribe un programa que defina una función llamada limpiar_lista( ) para eliminar todas las entradas duplicadas de la lista que recibe."
   ]
  },
  {
   "cell_type": "code",
   "execution_count": null,
   "id": "33b4c69b",
   "metadata": {},
   "outputs": [],
   "source": []
  },
  {
   "cell_type": "markdown",
   "id": "0a28448d",
   "metadata": {},
   "source": [
    "4- ¿Cuál de las llamadas a la función imprímelo( ) en el siguiente programa informará de errores?"
   ]
  },
  {
   "cell_type": "code",
   "execution_count": 15,
   "id": "78571ae1",
   "metadata": {},
   "outputs": [
    {
     "name": "stdout",
     "output_type": "stream",
     "text": [
      "\n",
      "20 6.28 Hi\n",
      "30 6.28 Hello\n",
      "40 2.35 NagMum10"
     ]
    }
   ],
   "source": [
    "def imprimelo(i, a, s, *args) : \n",
    "    print( )\n",
    "    print(i, a, s, end = '') \n",
    "    for var in args:\n",
    "        print(var, end = '')\n",
    "        \n",
    "# imprimelo(10, 3.14) # - Esta genera error porque los parámetros no son los requeridos por la función falta el parámtro para la 's'\n",
    "imprimelo(20, s = 'Hi', a = 6.28)\n",
    "imprimelo(a = 6.28, s = 'Hello', i = 30) \n",
    "imprimelo(40, 2.35, 'Nag', 'Mum', 10)"
   ]
  },
  {
   "cell_type": "markdown",
   "id": "90072e0e",
   "metadata": {},
   "source": [
    "5 - ¿Cuál de las llamadas a funciona( ) en el siguiente programa informará de errores?"
   ]
  },
  {
   "cell_type": "code",
   "execution_count": 16,
   "id": "f5869eee",
   "metadata": {},
   "outputs": [
    {
     "name": "stdout",
     "output_type": "stream",
     "text": [
      "10 !\n",
      "10 !\n",
      "20 !\n",
      "10 !\n",
      "20 !\n",
      "30 !\n",
      "10 +\n",
      "20 +\n",
      "30 +\n",
      "40 +\n"
     ]
    }
   ],
   "source": [
    "# Ninguna genera error porque el parámetro 's' es opcional\n",
    "\n",
    "def funciona(a, *args, s = '!') :\n",
    "    print(a, s)\n",
    "    for i in args :\n",
    "        print(i, s)\n",
    "        \n",
    "funciona(10) \n",
    "funciona(10, 20) \n",
    "funciona(10, 20, 30)\n",
    "funciona(10, 20, 30, 40, s = '+')"
   ]
  },
  {
   "cell_type": "markdown",
   "id": "88393dc3",
   "metadata": {},
   "source": [
    "6 - ¿Cuál de las siguientes es una declaración de retorno válida?"
   ]
  },
  {
   "cell_type": "code",
   "execution_count": 17,
   "id": "2346695d",
   "metadata": {},
   "outputs": [
    {
     "name": "stdout",
     "output_type": "stream",
     "text": [
      "('a', 'b', 'c')\n",
      "abc\n",
      "10\n",
      "('a', 'b', 'c')\n",
      "(5, 2, 3)\n"
     ]
    }
   ],
   "source": [
    "# return (a, b, c)\n",
    "# return a + b + c \n",
    "# return a, b, c\n",
    "\n",
    "# Todos los return dentro deuna función son aceptables\n",
    "\n",
    "def funcion1(a, b, c):\n",
    "    return (a, b, c)\n",
    "\n",
    "def funcion2(a, b, c):\n",
    "    return a + b + c\n",
    "\n",
    "def funcion3(a, b, c):\n",
    "    return a, b, c\n",
    "\n",
    "\n",
    "\n",
    "print(funcion1('a', 'b', 'c'))\n",
    "print(funcion2('a', 'b', 'c'))\n",
    "print(funcion2(5, 2, 3))\n",
    "print(funcion3('a', 'b', 'c'))\n",
    "print(funcion3(5, 2, 3))"
   ]
  },
  {
   "cell_type": "markdown",
   "id": "eec1a252",
   "metadata": {},
   "source": [
    "7 - ¿Cuál de las siguientes es una declaración de retorno válida?"
   ]
  },
  {
   "cell_type": "code",
   "execution_count": 18,
   "id": "51b2233a",
   "metadata": {},
   "outputs": [
    {
     "name": "stdout",
     "output_type": "stream",
     "text": [
      "First avatar\n",
      "New avatar\n"
     ]
    }
   ],
   "source": [
    "# Las dos funciona NO retorna valor, estas funciones se definen como sin retorno\n",
    "\n",
    "def fun( ) :\n",
    "    print('First avatar')\n",
    "\n",
    "fun( )\n",
    "\n",
    "#################################\n",
    "\n",
    "def fun1( ) :\n",
    "    print('New avatar') \n",
    "\n",
    "fun1( )"
   ]
  },
  {
   "cell_type": "markdown",
   "id": "e30f2b75",
   "metadata": {},
   "source": [
    "8 (Opcional) - ¿Cómo definirías una función que contenga tres sentencias return, cada una de las cuales devuelve un tipo de valor diferente?"
   ]
  },
  {
   "cell_type": "code",
   "execution_count": null,
   "id": "a6e88b02",
   "metadata": {},
   "outputs": [],
   "source": []
  },
  {
   "cell_type": "markdown",
   "id": "4d539a86",
   "metadata": {},
   "source": [
    "9 (Opcional) - ¿Cómo llamarías a imprimelo( ) para que imprima los elementos de una tupla?"
   ]
  },
  {
   "cell_type": "code",
   "execution_count": null,
   "id": "65a3ff18",
   "metadata": {},
   "outputs": [],
   "source": []
  },
  {
   "cell_type": "markdown",
   "id": "a8ac9fe9",
   "metadata": {},
   "source": [
    "10 - ¿Cuál será la salida de los siguientes programas?. Explique también con sus propias palabras lo que el programa está haciendo. Puede hacerlo en un bloque aparte o en el mismo bloque del codigo usando comentarios"
   ]
  },
  {
   "cell_type": "markdown",
   "id": "9f9b6b87",
   "metadata": {},
   "source": [
    "a)"
   ]
  },
  {
   "cell_type": "code",
   "execution_count": 19,
   "id": "3af9f912",
   "metadata": {},
   "outputs": [
    {
     "name": "stdout",
     "output_type": "stream",
     "text": [
      "48\n"
     ]
    }
   ],
   "source": [
    "'''\n",
    "La función realiza una llamada recursiba, donde el valor de 'y' se incrementa \n",
    "con la multiplicación de (x * y).\n",
    "\n",
    "En la primer interacción 'y' tiene un valor de 2 y la primer llamada recursiva toma el valor de (x * y) donde x = 3 y 'y' = 8\n",
    "este proceso lo repite hasta que x sea 0. devolviendo el ultimo valor resultatante de (x * y) = 1 * 48\n",
    "'''\n",
    "\n",
    "def fun(x, y) :\n",
    "    if x == 0 :\n",
    "        return y\n",
    "    else :\n",
    "        return fun(x - 1, x * y) \n",
    "\n",
    "print(fun(4, 2))"
   ]
  },
  {
   "cell_type": "markdown",
   "id": "6f8299d0",
   "metadata": {},
   "source": [
    "b)"
   ]
  },
  {
   "cell_type": "code",
   "execution_count": 20,
   "id": "f46c2ba5",
   "metadata": {},
   "outputs": [
    {
     "name": "stdout",
     "output_type": "stream",
     "text": [
      "91\n"
     ]
    }
   ],
   "source": [
    "def fun(num) :\n",
    "    if num > 100 : \n",
    "        return num - 10\n",
    "    return fun(fun(num + 11)) \n",
    "print(fun(75))"
   ]
  },
  {
   "cell_type": "markdown",
   "id": "b91e6a9c",
   "metadata": {},
   "source": [
    "c)"
   ]
  },
  {
   "cell_type": "code",
   "execution_count": 21,
   "id": "40f50f6c",
   "metadata": {},
   "outputs": [
    {
     "name": "stdout",
     "output_type": "stream",
     "text": [
      "True\n"
     ]
    }
   ],
   "source": [
    "def fun_(num) :\n",
    "    if num == 0 :\n",
    "        print(\"False\")\n",
    "    elif num == 1 :\n",
    "        print(\"True\")\n",
    "    elif num % 2 == 0 :\n",
    "        fun_(num / 2)\n",
    "fun_(256)"
   ]
  },
  {
   "cell_type": "markdown",
   "id": "3e2f061f",
   "metadata": {},
   "source": [
    "11 - Considere la siguiente lista: lst = [1.25, 3.22, 4.68, 10.95, 32.55, 12.54]. Los números en la lista representan radios de circulos. Escriba un programa donde se obtenga una lista de las areas de esos circulos."
   ]
  },
  {
   "cell_type": "markdown",
   "id": "44b90292",
   "metadata": {},
   "source": [
    "- Area del circulo: A ---------------> A = (pi) * r**2"
   ]
  },
  {
   "cell_type": "code",
   "execution_count": 30,
   "id": "fc8d0d68",
   "metadata": {},
   "outputs": [
    {
     "name": "stdout",
     "output_type": "stream",
     "text": [
      "[4.908738521234052, 32.57328926948041, 68.80841893598507, 376.68481314705014, 3328.5252704600193, 494.02047132524063]\n"
     ]
    },
    {
     "ename": "",
     "evalue": "",
     "output_type": "error",
     "traceback": [
      "\u001b[1;31mThe Kernel crashed while executing code in the current cell or a previous cell. \n",
      "\u001b[1;31mPlease review the code in the cell(s) to identify a possible cause of the failure. \n",
      "\u001b[1;31mClick <a href='https://aka.ms/vscodeJupyterKernelCrash'>here</a> for more info. \n",
      "\u001b[1;31mView Jupyter <a href='command:jupyter.viewOutput'>log</a> for further details."
     ]
    }
   ],
   "source": [
    "from math import pi\n",
    "\n",
    "def area_circulo(ratio):\n",
    "    '''\n",
    "    Retorna el área de un círculo\n",
    "\n",
    "    parametro: \n",
    "        ratio: radio del círculo\n",
    "    '''\n",
    "    return pi * ratio**2 \n",
    "\n",
    "lst = [1.25, 3.22, 4.68, 10.95, 32.55, 12.54]\n",
    "\n",
    "lst_areas = [area_circulo(i) for i in lst]\n",
    "\n",
    "print(lst_areas)\n"
   ]
  },
  {
   "cell_type": "markdown",
   "id": "32444ae6",
   "metadata": {},
   "source": [
    "12 - Considere la siguiente lista: lista = ['Thor', 'Iron Man', 'Cap America', 'Hulk', 'Hawkeye']. Escribe un programa para obtener una lista en la que todos los nombres se conviertan a mayúsculas."
   ]
  },
  {
   "cell_type": "code",
   "execution_count": null,
   "id": "4bd49275",
   "metadata": {},
   "outputs": [],
   "source": []
  },
  {
   "cell_type": "markdown",
   "id": "e68715cf",
   "metadata": {},
   "source": [
    "13 - Considere la siguiente lista: lista_1 = ['Yo hago Yoga Hoy', 'Acaso hubo búhos acá', 'Ana, la tacaña catalana.', 'Julio está dando caña'] . Escribe un programa que imprima las cadenas que son palíndromos."
   ]
  },
  {
   "cell_type": "code",
   "execution_count": 2,
   "id": "7859f9dd",
   "metadata": {},
   "outputs": [
    {
     "name": "stdout",
     "output_type": "stream",
     "text": [
      "La frase Yo hago Yoga Hoy es palidroma\n",
      "La frase Acaso hubo búhos acá es palidroma\n",
      "La frase Ana, la tacaña catalana. es palidroma\n",
      "La frase Julio está dando caña NO es palidroma\n",
      "La frase \"Anita lava la tiná\" es palidroma\n"
     ]
    }
   ],
   "source": [
    "import string\n",
    "import unicodedata\n",
    "\n",
    "lista_1 = ['Yo hago Yoga Hoy', 'Acaso hubo búhos acá', 'Ana, la tacaña catalana.', 'Julio está dando caña', '\"Anita lava la tiná\"']\n",
    "\n",
    "def reverse(sentence):\n",
    "    '''\n",
    "    Retorna una palabra o frase en sentido contrario\n",
    "    '''\n",
    "    return(sentence [::-1])\n",
    "\n",
    "def is_equal(param1, param2):\n",
    "    '''\n",
    "    Función que retorna si un objeto es igual otro\n",
    "    '''\n",
    "    return param1 == param2\n",
    "\n",
    "def remove_accents(sentence):\n",
    "    '''\n",
    "    Función para eliminar acentos como áéíóú\n",
    "    '''\n",
    "    return unicodedata.normalize ('NFKD', sentence).encode ('ascii', 'ignore').decode ('utf-8', 'ignore')\n",
    "\n",
    "def remove_punctuation(sentence):\n",
    "    '''\n",
    "    Función para eliminar puntuación\n",
    "    '''\n",
    "    table = str.maketrans (' ' , ' ' , string.punctuation)\n",
    "    resp = [word.translate (table) for word in sentence.split()]\n",
    "    return ''.join(resp)\n",
    "\n",
    "\n",
    "for frase in lista_1:\n",
    "    f_original = frase\n",
    "    frase = remove_punctuation(remove_accents(frase).lower())\n",
    "\n",
    "    if (is_equal(frase, reverse(frase))):\n",
    "        print(f'La frase {f_original} es palidroma')\n",
    "    else:\n",
    "        print(f'La frase {f_original} NO es palidroma')\n",
    "\n",
    "\n"
   ]
  },
  {
   "cell_type": "markdown",
   "id": "84f77ceb",
   "metadata": {},
   "source": [
    "14 - Supongamos que un diccionario contiene los nombres de los alumnos y las notas que han obtenido en un examen (Rango de notas de 0 - 100). Escribe un programa para obtener una lista de los alumnos que han obtenido más de 40 puntos en el examen."
   ]
  },
  {
   "cell_type": "code",
   "execution_count": 23,
   "id": "83a20444",
   "metadata": {},
   "outputs": [
    {
     "name": "stdout",
     "output_type": "stream",
     "text": [
      "{'Cecilio': 25, 'Teófilo': 66, 'Gil': 16, 'Iván': 8, 'Blanca': 74, 'Inés': 76, 'Aurora': 47, 'Alejo': 55, 'Eligia': 63, 'Apolonia': 33, 'Oriana': 72, 'Felix': 48, 'Nicolás': 13, 'Corona': 18, 'Ascensión': 11, 'Constanza': 98, 'Rosaura': 35, 'Florina': 69, 'Rómulo': 59, 'Ximena': 41, 'Pacífica': 31, 'Anselma': 8, 'Clemente': 63, 'María Manuela': 51, 'Enrique': 6, 'Marciano': 34, 'Octavio': 30, 'David': 32, 'Vicenta': 53, 'Hortensia': 61, 'Eva': 73, 'Bienvenida': 61, 'Imelda': 50, 'Sebastián': 43, 'Eugenia': 72, 'Cloe': 93, 'Jose Carlos': 41, 'Víctor': 27, 'Fabio': 22, 'Ana Belén': 52}\n",
      "Liatado de alumnos con mas de 40 puntos en el examen:\n",
      "{'Teófilo': 66, 'Blanca': 74, 'Inés': 76, 'Aurora': 47, 'Alejo': 55, 'Eligia': 63, 'Oriana': 72, 'Felix': 48, 'Constanza': 98, 'Florina': 69, 'Rómulo': 59, 'Ximena': 41, 'Clemente': 63, 'María Manuela': 51, 'Vicenta': 53, 'Hortensia': 61, 'Eva': 73, 'Bienvenida': 61, 'Imelda': 50, 'Sebastián': 43, 'Eugenia': 72, 'Cloe': 93, 'Jose Carlos': 41, 'Ana Belén': 52}\n"
     ]
    }
   ],
   "source": [
    "# pip install Faker\n",
    "import random as ran\n",
    "from faker import Faker \n",
    "fake = Faker(\"es_ES\") \n",
    "\n",
    "from faker.providers.person.es_CO import Provider as EnUSPersonProvider\n",
    "\n",
    "alumnos = tuple(fake.first_name_nonbinary() for _ in range( 40 ))\n",
    "notas = tuple(ran.randrange(1,100) for i in range(0, 40, 1))\n",
    "\n",
    "alumnos_notas = dict()\n",
    "for i, u in enumerate(alumnos):\n",
    "    alumnos_notas[u] = notas[i]\n",
    "\n",
    "print(alumnos_notas)\n",
    "\n",
    "alumnos_40 = ((k,v) for (k,v) in alumnos_notas.items() if v > 40)\n",
    "\n",
    "print('Liatado de alumnos con mas de 40 puntos en el examen:')\n",
    "print(dict(alumnos_40))\n",
    "\n"
   ]
  },
  {
   "cell_type": "markdown",
   "id": "cc191c04",
   "metadata": {},
   "source": [
    "15 - Considere las siguientes listas:"
   ]
  },
  {
   "cell_type": "code",
   "execution_count": 24,
   "id": "f2164659",
   "metadata": {},
   "outputs": [],
   "source": [
    "nums = [10, 20, 30, 40, 50, 60, 70, 80]\n",
    "strs = ['A', 'B', 'C', 'D', 'E', 'F', 'G', 'H']"
   ]
  },
  {
   "cell_type": "markdown",
   "id": "0ec7ca4d",
   "metadata": {},
   "source": [
    "Escribe un programa para obtener una lista de tuplas, donde cada tupla contenga un número de una lista y una cadena de otra, en el mismo orden en que aparecen en las listas originales"
   ]
  },
  {
   "cell_type": "code",
   "execution_count": 25,
   "id": "a4e64fd8",
   "metadata": {},
   "outputs": [
    {
     "name": "stdout",
     "output_type": "stream",
     "text": [
      "{'A': 10, 'B': 20, 'C': 30, 'D': 40, 'E': 50, 'F': 60, 'G': 70, 'H': 80}\n"
     ]
    }
   ],
   "source": [
    "nums = [10, 20, 30, 40, 50, 60, 70, 80]\n",
    "strs = ['A', 'B', 'C', 'D', 'E', 'F', 'G', 'H']\n",
    "\n",
    "resul = dict()\n",
    "for i, s in enumerate(strs):\n",
    "    resul[s] = nums[i]\n",
    "\n",
    "print(resul)"
   ]
  }
 ],
 "metadata": {
  "kernelspec": {
   "display_name": "Python 3 (ipykernel)",
   "language": "python",
   "name": "python3"
  },
  "language_info": {
   "codemirror_mode": {
    "name": "ipython",
    "version": 3
   },
   "file_extension": ".py",
   "mimetype": "text/x-python",
   "name": "python",
   "nbconvert_exporter": "python",
   "pygments_lexer": "ipython3",
   "version": "3.11.9"
  }
 },
 "nbformat": 4,
 "nbformat_minor": 5
}
