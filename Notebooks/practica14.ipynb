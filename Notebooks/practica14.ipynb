{
 "cells": [
  {
   "cell_type": "markdown",
   "metadata": {},
   "source": [
    "# Muestre el output del siguiente string:"
   ]
  },
  {
   "cell_type": "code",
   "execution_count": 6,
   "metadata": {},
   "outputs": [
    {
     "name": "stdout",
     "output_type": "stream",
     "text": [
      "a) nvenido a mi bl\n",
      "b) e\n",
      "c) Bienven\n",
      "d) do a mi blo\n",
      "e) \n",
      "f) Bnn\n",
      "g) oam lg\n",
      "h) i\n",
      "i) \n",
      "j) dail\n"
     ]
    }
   ],
   "source": [
    "str = \"Bienvenido a mi blog\"\n",
    "\n",
    "print('a)', str[3: 18])\n",
    "print('b)', str[2: 4: 2])\n",
    "print('c)', str [ : 7])\n",
    "print('d)', str[8 : -1 : 1])\n",
    "print('e)',str [-9 : -15])\n",
    "print('f)',str[0 : 9 : 3])\n",
    "print('g)',str[9 : 29 : 2])\n",
    "print('h)',str[-6 : -9 : -3])\n",
    "print('i)',str[-9 : -9 : -1])\n",
    "print('j)',str[8 : 25 : 3])\n"
   ]
  },
  {
   "cell_type": "markdown",
   "metadata": {},
   "source": [
    "# Muestre el output del siguiente string"
   ]
  },
  {
   "cell_type": "code",
   "execution_count": 7,
   "metadata": {},
   "outputs": [
    {
     "name": "stdout",
     "output_type": "stream",
     "text": [
      "a) g in \n",
      "b) o\n",
      "c) n n\n",
      "d) Slicing in Pytho\n",
      "e) Pn ncl \n",
      "f) Si \n",
      "g) ython\n",
      "h) P\n",
      "i) i gnicilS gnirt\n",
      "j) rgli \n"
     ]
    }
   ],
   "source": [
    "str = \"String Slicing in Python\"\n",
    "print('a)', str [13: 18])\n",
    "print('b)', str[ -2: -4 : -2])\n",
    "print('c)', str [12 :18 : 2])\n",
    "print('d)', str[-17 :-1: 1])\n",
    "print('e)', str[-6 :-20 :-2])\n",
    "print('f)', str[0 : 9 : 3])\n",
    "print('g)', str[19 : 29])\n",
    "print('h)', str[-6 : -9 : -3])\n",
    "print('i)', str[-9 : -0 : -1])\n",
    "print('j)', str[2 : 16 : 3])"
   ]
  },
  {
   "cell_type": "markdown",
   "metadata": {},
   "source": [
    "# Ejercicio 3: Cree una cadena que esté formada por el primer, medio y último carácter"
   ]
  },
  {
   "cell_type": "code",
   "execution_count": 11,
   "metadata": {},
   "outputs": [
    {
     "name": "stdout",
     "output_type": "stream",
     "text": [
      "Jms\n"
     ]
    }
   ],
   "source": [
    "str1 = \"James\"\n",
    "\n",
    "print(str1[::2])"
   ]
  },
  {
   "cell_type": "markdown",
   "metadata": {},
   "source": [
    "# Ejercicio 4: Crear una cadena que esté formada por los tres caracteres centrales"
   ]
  },
  {
   "cell_type": "code",
   "execution_count": 12,
   "metadata": {},
   "outputs": [
    {
     "name": "stdout",
     "output_type": "stream",
     "text": [
      "('Can', 'tab', 'ria')\n"
     ]
    }
   ],
   "source": [
    "variable1 = \"Cantabria\"\n",
    "\n",
    "print(variable1.partition('tab'))"
   ]
  }
 ],
 "metadata": {
  "kernelspec": {
   "display_name": "Curso_python",
   "language": "python",
   "name": "python3"
  },
  "language_info": {
   "codemirror_mode": {
    "name": "ipython",
    "version": 3
   },
   "file_extension": ".py",
   "mimetype": "text/x-python",
   "name": "python",
   "nbconvert_exporter": "python",
   "pygments_lexer": "ipython3",
   "version": "3.11.9"
  }
 },
 "nbformat": 4,
 "nbformat_minor": 2
}
