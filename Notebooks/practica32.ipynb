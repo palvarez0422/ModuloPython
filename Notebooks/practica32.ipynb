{
 "cells": [
  {
   "cell_type": "markdown",
   "metadata": {},
   "source": [
    "# 2D facing indexing"
   ]
  },
  {
   "cell_type": "code",
   "execution_count": 1,
   "metadata": {},
   "outputs": [
    {
     "name": "stdout",
     "output_type": "stream",
     "text": [
      "[[ 1 22]\n",
      " [ 2 21]\n",
      " [ 3 27]\n",
      " [ 4 26]]\n",
      "(4, 2)\n",
      "[ True False False  True]\n",
      "[1 4]\n"
     ]
    }
   ],
   "source": [
    "import numpy as np\n",
    "\n",
    "clase_id_edad = np.array([[1, 22],\n",
    "                            [2, 21],\n",
    "                            [3, 27],\n",
    "                            [4, 26]] )\n",
    "\n",
    "print(clase_id_edad)\n",
    "\n",
    "print(clase_id_edad.shape)\n",
    "\n",
    "print(clase_id_edad[:, 1] % 2 == 0)\n",
    "\n",
    "# print(clase_id_edad[clase_id_edad[:, 1] % 2 == 0])\n",
    "print(clase_id_edad[:, 0][clase_id_edad[:, 1] % 2 == 0])"
   ]
  },
  {
   "cell_type": "markdown",
   "metadata": {},
   "source": [
    "# Fancy indexing vs. np.where()"
   ]
  },
  {
   "cell_type": "code",
   "execution_count": 3,
   "metadata": {},
   "outputs": [
    {
     "name": "stdout",
     "output_type": "stream",
     "text": [
      "(array([0, 3]),)\n"
     ]
    }
   ],
   "source": [
    "ar = np.where( clase_id_edad[:, 1] % 2 == 0 )\n",
    "print(ar)\n"
   ]
  },
  {
   "cell_type": "markdown",
   "metadata": {},
   "source": [
    "# Filtrado con np.where()"
   ]
  },
  {
   "cell_type": "code",
   "execution_count": 14,
   "metadata": {},
   "outputs": [
    {
     "name": "stdout",
     "output_type": "stream",
     "text": [
      "(array([0, 3]),)\n"
     ]
    }
   ],
   "source": [
    "\n",
    "\n",
    "print(np.where(clase_id_edad[:,1] % 2 == 0))\n",
    "\n",
    "\n"
   ]
  },
  {
   "cell_type": "markdown",
   "metadata": {},
   "source": [
    "# Obtención de elementos con np.where()"
   ]
  },
  {
   "cell_type": "code",
   "execution_count": null,
   "metadata": {},
   "outputs": [],
   "source": [
    "array_2 = np.array([[0,0,4,3,0,0,2,0,9],\n",
    "                    [0,0,5,0,0,9,0,0,1],\n",
    "                    [0,7,0,0,6,0,0,4,3],\n",
    "                    [0,0,6,0,0,2,0,8,7],\n",
    "                    [1,9,0,0,0,7,4,0,0],\n",
    "                    [0,5,0,0,8,3,0,0,0],\n",
    "                    [6,0,0,0,0,0,1,0,5],\n",
    "                    [0,0,3,5,0,8,6,9,9],\n",
    "                    [0,4,2,9,1,0,3,0,0]])\n",
    "\n",
    "row_ind, column_ind = np.where(array_2 == 0)\n",
    "\n",
    "print(row_ind)\n",
    "print(column_ind)"
   ]
  },
  {
   "cell_type": "markdown",
   "metadata": {},
   "source": [
    "# Encontrar y reemplazar"
   ]
  },
  {
   "cell_type": "code",
   "execution_count": 13,
   "metadata": {},
   "outputs": [
    {
     "name": "stdout",
     "output_type": "stream",
     "text": [
      "[[-1 -1  4  3 -1 -1  2 -1  9]\n",
      " [-1 -1  5 -1 -1  9 -1 -1  1]\n",
      " [-1  7 -1 -1  6 -1 -1  4  3]\n",
      " [-1 -1  6 -1 -1  2 -1  8  7]\n",
      " [ 1  9 -1 -1 -1  7  4 -1 -1]\n",
      " [-1  5 -1 -1  8  3 -1 -1 -1]\n",
      " [ 6 -1 -1 -1 -1 -1  1 -1  5]\n",
      " [-1 -1  3  5 -1  8  6  9  9]\n",
      " [-1  4  2  9  1 -1  3 -1 -1]]\n"
     ]
    }
   ],
   "source": [
    "resul = np.where(array_2 == 0, -1, array_2)\n",
    "print(resul)\n"
   ]
  },
  {
   "cell_type": "markdown",
   "metadata": {},
   "source": [
    "# Añadiendo y removiendo datos: Concatenación y Compatibilidad con shap"
   ]
  },
  {
   "cell_type": "code",
   "execution_count": 18,
   "metadata": {},
   "outputs": [
    {
     "name": "stdout",
     "output_type": "stream",
     "text": [
      "[[18 12  3  7  1]\n",
      " [ 6  7  8 23 28]\n",
      " [11 15 13  4 11]]\n"
     ]
    }
   ],
   "source": [
    "array1 = np.array([[18,12,3], [6,7,8],[11,15,13]])\n",
    "array2 = np.array([[7,1], [23,28],[4,11]])\n",
    "\n",
    "print(np.concatenate((array1, array2), axis=1))\n",
    "\n",
    "# print(array1 + array2) # No funciona porque no son del mismo tamaño\n",
    "\n",
    "# print(np.concatenate((array1, array2), axis=0)) # No funciona porque no son del mismo tamaño\n",
    "\n",
    "                 "
   ]
  },
  {
   "cell_type": "markdown",
   "metadata": {},
   "source": []
  },
  {
   "cell_type": "code",
   "execution_count": 22,
   "metadata": {},
   "outputs": [
    {
     "name": "stdout",
     "output_type": "stream",
     "text": [
      "[[ 1 22]\n",
      " [ 2 21]\n",
      " [ 3 27]\n",
      " [ 4 26]\n",
      " [ 5 30]\n",
      " [ 5 17]]\n"
     ]
    }
   ],
   "source": [
    "classroom_ids_and_sizes = np.array([[1,22],[2, 21],[3, 27],[4,26]] )\n",
    "new_classrooms = np.array([[5, 30],[5,17]] )\n",
    "\n",
    "# , axis=0 : np.concatenate(): Concatena a lo largo del primer eje por defecto.\n",
    "print(np.concatenate((classroom_ids_and_sizes,new_classrooms))) \n"
   ]
  },
  {
   "cell_type": "markdown",
   "metadata": {},
   "source": [
    "# Borrar con np.delete()"
   ]
  },
  {
   "cell_type": "code",
   "execution_count": 29,
   "metadata": {},
   "outputs": [
    {
     "name": "stdout",
     "output_type": "stream",
     "text": [
      "[['1' '22' '1' 'James']\n",
      " ['2' '21' '1' 'Geoge']\n",
      " ['3' '27' '3' 'Amy']\n",
      " ['4' '26' '3' 'Meehir']]\n",
      "[['1' '22' '1' 'James']\n",
      " ['3' '27' '3' 'Amy']\n",
      " ['4' '26' '3' 'Meehir']]\n",
      "[['1' '1' 'James']\n",
      " ['2' '1' 'Geoge']\n",
      " ['3' '3' 'Amy']\n",
      " ['4' '3' 'Meehir']]\n"
     ]
    }
   ],
   "source": [
    "data_clases = np.array([[1, 22, 1, 'James'],\n",
    "                            [2, 21, 1, 'Geoge'],   \n",
    "                            [3, 27, 3, 'Amy'],\n",
    "                            [4, 26, 3, 'Meehir']] )\n",
    "\n",
    "print(data_clases)\n",
    "\n",
    "# Borrando filas\n",
    "delete_axis_y = np.delete(data_clases, 1, axis=0)\n",
    "print(delete_axis_y)\n",
    "\n",
    "# Borrando columnas\n",
    "delete_axis_x = np.delete(data_clases, 1, axis=1)\n",
    "print(delete_axis_x)\n"
   ]
  },
  {
   "cell_type": "markdown",
   "metadata": {},
   "source": [
    "# Borrar sin especificar el eje"
   ]
  },
  {
   "cell_type": "code",
   "execution_count": 31,
   "metadata": {},
   "outputs": [
    {
     "name": "stdout",
     "output_type": "stream",
     "text": [
      "[['1' '22' '1' 'James']\n",
      " ['2' '21' '1' 'Geoge']\n",
      " ['3' '27' '3' 'Amy']\n",
      " ['4' '26' '3' 'Meehir']]\n",
      "['1' '1' 'James' '2' '21' '1' 'Geoge' '3' '27' '3' 'Amy' '4' '26' '3'\n",
      " 'Meehir']\n"
     ]
    }
   ],
   "source": [
    "\n",
    "delete_data_clases = np.delete(data_clases, 1)\n",
    "print(data_clases) \n",
    "print(delete_data_clases) \n"
   ]
  }
 ],
 "metadata": {
  "kernelspec": {
   "display_name": "Curso_python",
   "language": "python",
   "name": "python3"
  },
  "language_info": {
   "codemirror_mode": {
    "name": "ipython",
    "version": 3
   },
   "file_extension": ".py",
   "mimetype": "text/x-python",
   "name": "python",
   "nbconvert_exporter": "python",
   "pygments_lexer": "ipython3",
   "version": "3.11.9"
  }
 },
 "nbformat": 4,
 "nbformat_minor": 2
}
