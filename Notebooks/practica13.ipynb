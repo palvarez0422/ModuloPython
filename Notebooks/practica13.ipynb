{
 "cells": [
  {
   "cell_type": "markdown",
   "metadata": {},
   "source": [
    "# Pregunta 1"
   ]
  },
  {
   "cell_type": "code",
   "execution_count": 1,
   "metadata": {},
   "outputs": [
    {
     "name": "stdout",
     "output_type": "stream",
     "text": [
      "¡Hola Pedro\n"
     ]
    }
   ],
   "source": [
    "name = input('Entre su nombre:')\n",
    "print(f'¡Hola {name}')"
   ]
  },
  {
   "cell_type": "markdown",
   "metadata": {},
   "source": [
    "# Pregunta 2"
   ]
  },
  {
   "cell_type": "code",
   "execution_count": 2,
   "metadata": {},
   "outputs": [
    {
     "name": "stdout",
     "output_type": "stream",
     "text": [
      "0.25\n"
     ]
    }
   ],
   "source": [
    "numerator = 3 + 2\n",
    "denominator = 2 * 5\n",
    "resp = (numerator / denominator) ** 2\n",
    "print(resp)"
   ]
  },
  {
   "cell_type": "markdown",
   "metadata": {},
   "source": [
    "# Pregunta 3"
   ]
  },
  {
   "cell_type": "code",
   "execution_count": 5,
   "metadata": {},
   "outputs": [
    {
     "name": "stdout",
     "output_type": "stream",
     "text": [
      "Te correspode una paga de 2000.0\n"
     ]
    }
   ],
   "source": [
    "numHorasTrabajadas = float(input('Entre el número de horas trabajadas:'))\n",
    "costoHora = float(input('Entre el valor de la hora:'))\n",
    "totalPaga = round(numHorasTrabajadas * costoHora,2)\n",
    "print(f'Te correspode una paga de {totalPaga}')"
   ]
  },
  {
   "cell_type": "markdown",
   "metadata": {},
   "source": [
    "# Pregunta 4"
   ]
  },
  {
   "cell_type": "code",
   "execution_count": 6,
   "metadata": {},
   "outputs": [
    {
     "name": "stdout",
     "output_type": "stream",
     "text": [
      "El cociente entre 42.0 y 5.0 es 8.4.  Y su módulo es 2.0 \n"
     ]
    }
   ],
   "source": [
    "number1 = float(input('Entre el dividendo (núemro 1):'))\n",
    "number2 = float(input('Entre el divisor (núemro 2):'))\n",
    "\n",
    "quotient = number1 / number2\n",
    "module = number1 % number2\n",
    "\n",
    "print(f'El cociente entre {number1} y {number2} es {quotient}.  Y su módulo es {module} ')\n"
   ]
  },
  {
   "cell_type": "markdown",
   "metadata": {},
   "source": [
    "# Pregunta 5"
   ]
  },
  {
   "cell_type": "code",
   "execution_count": 8,
   "metadata": {},
   "outputs": [
    {
     "name": "stdout",
     "output_type": "stream",
     "text": [
      "El capital obtenido en 5 años de 1000.0 a un 20.0% es: 1000.0\n"
     ]
    }
   ],
   "source": [
    "amountToInvested = float(input('Enttre la cantidad a invertir:'))\n",
    "interestRate = float(input('Entre el valor del interes en porcentaje anual.  Ejm(10 es igual a 10%):'))\n",
    "numberYears = int(input('Entre el número de años de la inversión:'))\n",
    "\n",
    "capital = round(amountToInvested * (interestRate/100) * numberYears, 2)\n",
    "\n",
    "print(f'El capital obtenido en {numberYears} años de {amountToInvested} a un {interestRate}% es: {capital}')\n",
    "\n",
    "\n"
   ]
  },
  {
   "cell_type": "markdown",
   "metadata": {},
   "source": [
    "# Pregunta 6"
   ]
  },
  {
   "cell_type": "code",
   "execution_count": 11,
   "metadata": {},
   "outputs": [
    {
     "name": "stdout",
     "output_type": "stream",
     "text": [
      "Se vendieron 25 barras de pan, su precio normal el total es de 87.25€, se le aplica el descuento del 60% y da un total ingresado de 34.9€\n"
     ]
    }
   ],
   "source": [
    "PRECIO_PAN = 3.49\n",
    "DESCUENTO = 60\n",
    "\n",
    "numeroPanesNoDia = int(input('Entre el número de barras de pan que no se vendieron en el día:'))\n",
    "totalVenta = round(numeroPanesNoDia * PRECIO_PAN, 2)\n",
    "descuento = totalVenta * DESCUENTO / 100\n",
    "totalVentaNoDia = round(totalVenta - descuento, 2)\n",
    "\n",
    "print(f'Se vendieron {numeroPanesNoDia} barras de pan, su precio normal el total es de {totalVenta}€, se le aplica el descuento del {DESCUENTO}% y da un total ingresado de {totalVentaNoDia}€')\n"
   ]
  },
  {
   "cell_type": "markdown",
   "metadata": {},
   "source": [
    "# Pregunta 8"
   ]
  },
  {
   "cell_type": "code",
   "execution_count": 15,
   "metadata": {},
   "outputs": [
    {
     "name": "stdout",
     "output_type": "stream",
     "text": [
      "la temperatura en de 100.0 Fahrenheit y de 37.78 ºC\n"
     ]
    }
   ],
   "source": [
    "tempFar = float(input('Entre la temperatura actual:'))\n",
    "tempCent = round((tempFar - 32) * 5 / 9, 2)\n",
    "\n",
    "print(f'la temperatura en de {tempFar} Fahrenheit y de {tempCent} ºC')"
   ]
  },
  {
   "cell_type": "markdown",
   "metadata": {},
   "source": [
    "# Pregunta 9"
   ]
  },
  {
   "cell_type": "code",
   "execution_count": 17,
   "metadata": {},
   "outputs": [
    {
     "name": "stdout",
     "output_type": "stream",
     "text": [
      "la temperatura en de 37.0 ºC corresponde a 310.15 ºKelvin\n"
     ]
    }
   ],
   "source": [
    "tempCent = float(input('Entre la temperatura actual:'))\n",
    "CONST_KELVIN = 273.15\n",
    "\n",
    "tempKelvin = round(tempCent + CONST_KELVIN, 2)\n",
    "\n",
    "print(f'la temperatura en de {tempCent} ºC corresponde a {tempKelvin} ºKelvin')"
   ]
  },
  {
   "cell_type": "markdown",
   "metadata": {},
   "source": [
    "# Pregunta 10 \n",
    "## (Imprima la parte imaginaria del complejo)"
   ]
  },
  {
   "cell_type": "code",
   "execution_count": 19,
   "metadata": {},
   "outputs": [
    {
     "name": "stdout",
     "output_type": "stream",
     "text": [
      "la parte imaginaria de (2+3j) es 3.0\n"
     ]
    }
   ],
   "source": [
    "z = 2 + 3j\n",
    "\n",
    "print(f'la parte imaginaria de {z} es {z.imag}')"
   ]
  },
  {
   "cell_type": "markdown",
   "metadata": {},
   "source": [
    "# Pregunta 11"
   ]
  },
  {
   "cell_type": "code",
   "execution_count": 20,
   "metadata": {},
   "outputs": [
    {
     "name": "stdout",
     "output_type": "stream",
     "text": [
      "la parte real de (4+2j) es 4.0\n"
     ]
    }
   ],
   "source": [
    "z = 4 + 2j\n",
    "\n",
    "print(f'la parte real de {z} es {z.real}')"
   ]
  },
  {
   "cell_type": "markdown",
   "metadata": {},
   "source": [
    "# Pregunta 12"
   ]
  },
  {
   "cell_type": "code",
   "execution_count": 23,
   "metadata": {},
   "outputs": [
    {
     "name": "stdout",
     "output_type": "stream",
     "text": [
      "el conjugado de (4+2j) es (4-2j)\n"
     ]
    }
   ],
   "source": [
    "z = 4 + 2j\n",
    "\n",
    "print(f'el conjugado de {z} es {z.conjugate()}')"
   ]
  },
  {
   "cell_type": "markdown",
   "metadata": {},
   "source": [
    "# Pregunta 13"
   ]
  },
  {
   "cell_type": "code",
   "execution_count": 24,
   "metadata": {},
   "outputs": [
    {
     "name": "stdout",
     "output_type": "stream",
     "text": [
      "el decimal de 0 es: 782\n"
     ]
    }
   ],
   "source": [
    "binario = 1100001110\n",
    "\n",
    "decimal = 0\n",
    "i = 0\n",
    "while (binario>0):\n",
    "    digito  = binario%10\n",
    "    binario = int(binario//10)\n",
    "    decimal = decimal+digito*(2**i)\n",
    "    i = i+1\n",
    "\n",
    "print(f'el decimal de {binario} es: {decimal}')"
   ]
  },
  {
   "cell_type": "markdown",
   "metadata": {},
   "source": [
    "# Pregunta 16"
   ]
  },
  {
   "cell_type": "code",
   "execution_count": 25,
   "metadata": {},
   "outputs": [
    {
     "name": "stdout",
     "output_type": "stream",
     "text": [
      "el hexadecimal de 34567 es 0x8707\n"
     ]
    }
   ],
   "source": [
    "decimal = 34567\n",
    "\n",
    "hexadecimal = hex(decimal)\n",
    "\n",
    "print(f'el hexadecimal de {decimal} es {hexadecimal}')"
   ]
  },
  {
   "cell_type": "markdown",
   "metadata": {},
   "source": [
    "# Pregunta 20"
   ]
  },
  {
   "cell_type": "code",
   "execution_count": 27,
   "metadata": {},
   "outputs": [
    {
     "name": "stdout",
     "output_type": "stream",
     "text": [
      "El resto entre 3.45 y 1.22 es 1.01\n"
     ]
    }
   ],
   "source": [
    "import sys\n",
    "\n",
    "print(f'El resto entre 3.45 y 1.22 es {round(3.45 % 1.22, 2)}')\n",
    "\n",
    "sys."
   ]
  },
  {
   "cell_type": "markdown",
   "metadata": {},
   "source": [
    "# Pregunta 22"
   ]
  },
  {
   "cell_type": "code",
   "execution_count": null,
   "metadata": {
    "vscode": {
     "languageId": "latex"
    }
   },
   "outputs": [],
   "source": [
    "No son nombres de variables válidos:\n",
    "pop in 2020 : Tiene espacios que Python no los permite\n",
    "teams'svictory : tiene caracteres especiales\n",
    "Plot#3 : tiene caracteres especiales\n",
    "group. : tiene un punto al final que es no permitido\n",
    "#MEAN : Es un comentario, no es nombre da variables\n",
    "422 : no puede comenzar por numeros\n",
    "queue. : termina en punto(.), contienen caracteres especiales"
   ]
  },
  {
   "cell_type": "markdown",
   "metadata": {},
   "source": [
    "# Pregunta 23"
   ]
  },
  {
   "cell_type": "code",
   "execution_count": 29,
   "metadata": {
    "vscode": {
     "languageId": "latex"
    }
   },
   "outputs": [
    {
     "name": "stdout",
     "output_type": "stream",
     "text": [
      "0\n",
      "13\n",
      "19\n",
      "-15\n",
      "6\n",
      "-48\n"
     ]
    }
   ],
   "source": [
    "# calcular 2 ** 6 // 8 % 2\n",
    "# calcular 9 ** 2 // 5 - 3\n",
    "# calcular 10 + 6 - 2 % 3 + 7 - 2 \n",
    "# calcular 5 % 10 + 10 - 23 * 4 // 3\n",
    "# calcular 5 + 5 // 5 - 5 * 5 ** 5 % 5\n",
    "# calcular 7 % 7 + 7 // 7 - 7 * 7\n",
    "\n",
    "print(2 ** 6 // 8 % 2)\n",
    "print(9 ** 2 // 5 - 3)\n",
    "print(10 + 6 - 2 % 3 + 7 - 2)\n",
    "print(5 % 10 + 10 - 23 * 4 // 3)\n",
    "print( 5 + 5 // 5 - 5 * 5 ** 5 % 5 )\n",
    "print( 7 % 7 + 7 // 7 - 7 * 7 )\n",
    "\n"
   ]
  },
  {
   "cell_type": "markdown",
   "metadata": {},
   "source": [
    "# Pregunta 24"
   ]
  },
  {
   "cell_type": "code",
   "execution_count": 30,
   "metadata": {
    "vscode": {
     "languageId": "latex"
    }
   },
   "outputs": [
    {
     "name": "stdout",
     "output_type": "stream",
     "text": [
      "2\n",
      "0b101110\n",
      "10.54\n"
     ]
    }
   ],
   "source": [
    "print (min(2,6,8,5))\n",
    "print (bin(46))\n",
    "print(round(10.544336, 2))"
   ]
  },
  {
   "cell_type": "markdown",
   "metadata": {},
   "source": [
    "# Pregunta 25"
   ]
  },
  {
   "cell_type": "code",
   "execution_count": 34,
   "metadata": {
    "vscode": {
     "languageId": "latex"
    }
   },
   "outputs": [
    {
     "name": "stdout",
     "output_type": "stream",
     "text": [
      "a=5, b=4\n",
      "a=4, b=5\n"
     ]
    }
   ],
   "source": [
    "a, b = 5, 4\n",
    "\n",
    "print(f'a={a}, b={b}')\n",
    "\n",
    "b, a = a, b\n",
    "\n",
    "print(f'a={a}, b={b}')\n"
   ]
  }
 ],
 "metadata": {
  "kernelspec": {
   "display_name": "Curso_python",
   "language": "python",
   "name": "python3"
  },
  "language_info": {
   "codemirror_mode": {
    "name": "ipython",
    "version": 3
   },
   "file_extension": ".py",
   "mimetype": "text/x-python",
   "name": "python",
   "nbconvert_exporter": "python",
   "pygments_lexer": "ipython3",
   "version": "3.11.9"
  }
 },
 "nbformat": 4,
 "nbformat_minor": 2
}
