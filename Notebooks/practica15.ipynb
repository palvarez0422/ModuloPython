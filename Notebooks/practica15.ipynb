{
 "cells": [
  {
   "cell_type": "markdown",
   "metadata": {},
   "source": [
    "# 1. Escriba un programa que genere los siguientes resultados a partir del ‘string’: Shenanigan"
   ]
  },
  {
   "cell_type": "code",
   "execution_count": 12,
   "metadata": {},
   "outputs": [
    {
     "name": "stdout",
     "output_type": "stream",
     "text": [
      "Sh\n",
      "enanigan\n",
      "Shenan\n",
      "Shenanigan\n",
      "Seaia\n",
      "Snin\n",
      "Saa\n",
      "<class 'str'>\n",
      "sHENANIGAN\n"
     ]
    }
   ],
   "source": [
    "'''\n",
    "Sh\n",
    "enanigan\n",
    "Shenan\n",
    "Shenanigan\n",
    "Seaia\n",
    "Snin\n",
    "Saa\n",
    "ShenaniganType\n",
    "ShenanWabbite\n",
    "'''\n",
    "\n",
    "str = 'Shenanigan'\n",
    "\n",
    "print(str[:2])\n",
    "print(str[2:])\n",
    "print(str[:6])\n",
    "print(str)\n",
    "print(str[::2])\n",
    "print(str[::3])\n",
    "print(str[::4])\n",
    "print(type(str))\n",
    "print(str.swapcase())\n",
    "\n",
    "\n",
    "\n",
    "\n",
    "\n"
   ]
  },
  {
   "cell_type": "markdown",
   "metadata": {},
   "source": [
    "# 2. Escriba un programa para convertir la siguiente cadena"
   ]
  },
  {
   "cell_type": "code",
   "execution_count": 14,
   "metadata": {},
   "outputs": [
    {
     "name": "stdout",
     "output_type": "stream",
     "text": [
      "Visita La Web Noexiste.Com Para Mayor Información Sobre Programación\n"
     ]
    }
   ],
   "source": [
    "str = 'Visita la web noexiste.com para mayor información sobre programación'\n",
    "\n",
    "print(str.title())"
   ]
  },
  {
   "cell_type": "markdown",
   "metadata": {},
   "source": [
    "# 3. Escriba un programa para convertir la siguiente cadena"
   ]
  },
  {
   "cell_type": "code",
   "execution_count": 16,
   "metadata": {},
   "outputs": [
    {
     "name": "stdout",
     "output_type": "stream",
     "text": [
      "LIGHT travels faster than SOUND. This is why some people appear bright until you hear them speak\n"
     ]
    }
   ],
   "source": [
    "print(f'{\"Light\".upper()} travels faster than {\"sound\".upper()}. This is why some people appear bright until you hear them speak')"
   ]
  },
  {
   "cell_type": "markdown",
   "metadata": {},
   "source": [
    "# 4 ¿Cuál será la salida del siguiente programa?"
   ]
  },
  {
   "cell_type": "code",
   "execution_count": 17,
   "metadata": {},
   "outputs": [
    {
     "name": "stdout",
     "output_type": "stream",
     "text": [
      "s = HumptyDumpty\n",
      "True\n",
      "False\n",
      "True\n",
      "False\n",
      "False\n",
      "True\n",
      "False\n"
     ]
    }
   ],
   "source": [
    "s = 'HumptyDumpty'\n",
    "print('s =', s)                     # s = HumptyDumpty\n",
    "print(s.isalpha())                  # True\n",
    "print(s.isdigit())                  # False\n",
    "print(s.isalnum())                  # True\n",
    "print(s.islower())                  # False\n",
    "print(s.isupper())                  # False\n",
    "print(s.startswith('Hump'))         # True\n",
    "print(s.endswith('Dump'))           # False"
   ]
  },
  {
   "cell_type": "markdown",
   "metadata": {},
   "source": [
    "# 5 Extraiga la subcadena: 'TraPoete' de la cadena 'ThreadProperties'"
   ]
  },
  {
   "cell_type": "code",
   "execution_count": 19,
   "metadata": {},
   "outputs": [
    {
     "name": "stdout",
     "output_type": "stream",
     "text": [
      "TraPoete\n"
     ]
    }
   ],
   "source": [
    "str = 'ThreadProperties'\n",
    "print(str[::2])\n"
   ]
  },
  {
   "cell_type": "markdown",
   "metadata": {},
   "source": [
    "# 6 ¿Cuál será el resultado del siguiente fragmento de código?"
   ]
  },
  {
   "cell_type": "code",
   "execution_count": 20,
   "metadata": {},
   "outputs": [
    {
     "name": "stdout",
     "output_type": "stream",
     "text": [
      "2195352999536\n",
      "<class 'str'>\n"
     ]
    }
   ],
   "source": [
    "print(id('lmaginary')) # 2195352999536\n",
    "print(type('lmaginary')) # <class 'str'>"
   ]
  },
  {
   "cell_type": "markdown",
   "metadata": {},
   "source": [
    "# 7 ¿Cuál será el resultado del siguiente fragmento de código?"
   ]
  },
  {
   "cell_type": "code",
   "execution_count": 21,
   "metadata": {},
   "outputs": [
    {
     "name": "stdout",
     "output_type": "stream",
     "text": [
      "['C:\\\\Users\\\\Tajamar\\\\Documents']\n",
      "('C:\\\\Users\\\\Tajamar\\\\Documents', '', '')\n"
     ]
    }
   ],
   "source": [
    "s3 = 'C:\\\\Users\\\\Tajamar\\\\Documents'\n",
    "print(s3. split( ' \\\\ ' ) )         # ['C:\\\\Users\\\\Tajamar\\\\Documents']\n",
    "print(s3. partition( ' \\\\ ' ) )     # ('C:\\\\Users\\\\Tajamar\\\\Documents', '', '')"
   ]
  },
  {
   "cell_type": "markdown",
   "metadata": {},
   "source": [
    "# 8 Indique si la siguiente afirmación es verdadera o falsa: Las cadenas en Python son iterables, troceables e inmutables. Explicar en caso de que sea falsa"
   ]
  },
  {
   "cell_type": "code",
   "execution_count": null,
   "metadata": {
    "vscode": {
     "languageId": "latex"
    }
   },
   "outputs": [],
   "source": [
    "sadsada"
   ]
  },
  {
   "cell_type": "markdown",
   "metadata": {},
   "source": [
    "# 9 ¿Cómo eliminará los espacios a ambos lados de la cadena?"
   ]
  },
  {
   "cell_type": "code",
   "execution_count": 22,
   "metadata": {},
   "outputs": [
    {
     "name": "stdout",
     "output_type": "stream",
     "text": [
      "Flanked by spaces on either side\n"
     ]
    }
   ],
   "source": [
    "str = '    Flanked by spaces on either side   '\n",
    "\n",
    "print(str.strip())\n"
   ]
  },
  {
   "cell_type": "markdown",
   "metadata": {},
   "source": [
    "# 10 ¿Cuál será el resultado del siguiente fragmento de código?"
   ]
  },
  {
   "cell_type": "code",
   "execution_count": 23,
   "metadata": {
    "vscode": {
     "languageId": "latex"
    }
   },
   "outputs": [
    {
     "name": "stdout",
     "output_type": "stream",
     "text": [
      "2195370550832 2195370550832 2195370550832\n"
     ]
    }
   ],
   "source": [
    "sl = s2 = s3 = \"Hello\"\n",
    "print(id(sl), id(s2), id(s3))\n",
    "\n",
    "Da como resultado el mismo id, todas las variables apuntan a la misma dirección de memoria"
   ]
  },
  {
   "cell_type": "markdown",
   "metadata": {},
   "source": [
    "# 11 Haga coincidir los códigos con sus respectivas salidas con la variable msg = 'Keep yourself warm'"
   ]
  },
  {
   "cell_type": "code",
   "execution_count": 27,
   "metadata": {},
   "outputs": [
    {
     "name": "stdout",
     "output_type": "stream",
     "text": [
      "('Keep', ' ', 'yourself warm')\n",
      "['Keep', 'yourself', 'warm']\n",
      "True\n",
      "False\n",
      "kEEP YOURSELF WARM\n",
      "Keep yourself warm\n",
      "3\n",
      "18\n",
      "K\n",
      "m\n",
      "\n",
      "\n",
      "Keep yourself w\n",
      "arm\n",
      "Keep yourself wa\n"
     ]
    }
   ],
   "source": [
    "msg = 'Keep yourself warm'\n",
    "print(msg.partition(' '))           #=> 8\n",
    "print(msg.split(' '))               #=> 7\n",
    "print(msg.startswith('Keep'))       #=> 5\n",
    "print(msg.endswith('Keep'))         #=> 6\n",
    "print(msg.swapcase())               #=> 2\n",
    "print(msg.capitalize())             #=> 3\n",
    "print(msg.count('e'))               #=> 4\n",
    "print(len(msg))                     #=> 1\n",
    "print(msg[0])                       #=> 11\n",
    "print(msg[-1])                      #=> 13\n",
    "print(msg[1:1:1])                   #=> 12\n",
    "print(msg[-1:3])                    #=> 15\n",
    "print(msg[:-3])                     #=> 9\n",
    "print(msg[-3:])                     #=> 14\n",
    "print(msg[0:-2])                    # => 10\n",
    "\n"
   ]
  }
 ],
 "metadata": {
  "kernelspec": {
   "display_name": "Curso_python",
   "language": "python",
   "name": "python3"
  },
  "language_info": {
   "codemirror_mode": {
    "name": "ipython",
    "version": 3
   },
   "file_extension": ".py",
   "mimetype": "text/x-python",
   "name": "python",
   "nbconvert_exporter": "python",
   "pygments_lexer": "ipython3",
   "version": "3.11.9"
  }
 },
 "nbformat": 4,
 "nbformat_minor": 2
}
