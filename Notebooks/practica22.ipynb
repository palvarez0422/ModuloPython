{
 "cells": [
  {
   "cell_type": "markdown",
   "metadata": {},
   "source": [
    "# 2 - Crear un diccionario que almacene los siguientes datos:"
   ]
  },
  {
   "cell_type": "code",
   "execution_count": 1,
   "metadata": {},
   "outputs": [
    {
     "name": "stdout",
     "output_type": "stream",
     "text": [
      "El estado de la interfaz ethe es:  up\n",
      "2. Interfaz e IP activas:\n",
      "{'ethe': '1.1.1.1', 'ethl': '2.2.2.2', 'wlanl': '4.4.4.4'}\n",
      "{'ethe': {'ip': '1.1.1.1', 'address_status': 'up'}, 'ethl': {'ip': '2.2.2.2', 'address_status': 'Up'}, 'wlanl': {'ip': '4.4.4.4', 'address_status': 'UP'}}\n",
      "3. número total de interfaces: 4\n",
      "4. Añadir dos nuevas entradas al diccionario.\n"
     ]
    },
    {
     "ename": "KeyError",
     "evalue": "'intnew'",
     "output_type": "error",
     "traceback": [
      "\u001b[1;31m---------------------------------------------------------------------------\u001b[0m",
      "\u001b[1;31mKeyError\u001b[0m                                  Traceback (most recent call last)",
      "Cell \u001b[1;32mIn[1], line 35\u001b[0m\n\u001b[0;32m     32\u001b[0m \u001b[38;5;28mprint\u001b[39m(total_interfaces)\n\u001b[0;32m     34\u001b[0m \u001b[38;5;28mprint\u001b[39m(\u001b[38;5;124m'\u001b[39m\u001b[38;5;124m4. Añadir dos nuevas entradas al diccionario.\u001b[39m\u001b[38;5;124m'\u001b[39m)\n\u001b[1;32m---> 35\u001b[0m interfaces[\u001b[38;5;124m'\u001b[39m\u001b[38;5;124mintnew\u001b[39m\u001b[38;5;124m'\u001b[39m]\u001b[38;5;241m.\u001b[39mvalues[{\u001b[38;5;124m'\u001b[39m\u001b[38;5;124mip\u001b[39m\u001b[38;5;124m'\u001b[39m:\u001b[38;5;124m'\u001b[39m\u001b[38;5;124m5.5.5.5.5\u001b[39m\u001b[38;5;124m'\u001b[39m},{\u001b[38;5;124m'\u001b[39m\u001b[38;5;124maddress_status\u001b[39m\u001b[38;5;124m'\u001b[39m:\u001b[38;5;124m'\u001b[39m\u001b[38;5;124mdown\u001b[39m\u001b[38;5;124m'\u001b[39m}]\n\u001b[0;32m     36\u001b[0m \u001b[38;5;28mprint\u001b[39m(interfaces\u001b[38;5;241m.\u001b[39mitems())\n",
      "\u001b[1;31mKeyError\u001b[0m: 'intnew'"
     ]
    }
   ],
   "source": [
    "\"\"\" \n",
    "    Escriba un programa para realizar las siguientes operaciones:\n",
    "    1. Encontrar el estado de una interfaz determinada.\n",
    "    2. Encuentra la interfaz y la IP de todas las interfaces que están activas.\n",
    "    3. Encuentra el número total de interfaces.\n",
    "    4. Añadir dos nuevas entradas al diccionario. \n",
    "\"\"\"\n",
    "\n",
    "interfaces = {   \n",
    "                 'ethe': {'ip':'1.1.1.1', 'address_status': 'up'},  \n",
    "                 'ethl': {'ip':'2.2.2.2', 'address_status': 'Up'}, \n",
    "                'wlane': {'ip':'3.3.3.3', 'address_status': 'down'}, \n",
    "                'wlanl': {'ip':'4.4.4.4', 'address_status': 'UP'}\n",
    "            }\n",
    "\n",
    "# print(interfaces.items())\n",
    "\n",
    "interface = input('Entre una tupla: (\"ethe\", \"ethl\", \"wlane\", \"wlanl\"): ').lower()\n",
    "\n",
    "print(f'El estado de la interfaz {interface} es: ', interfaces[interface].get('address_status', f'La interfaz {interface} no exite'))\n",
    "\n",
    "\n",
    "print('2. Interfaz e IP activas:', )\n",
    "interfaces_up = {interface:valor['ip'] for (interface, valor) in interfaces.items() if valor['address_status'].lower() =='up'}\n",
    "interfaces_up1 = {interface:valor for (interface, valor) in interfaces.items() if valor['address_status'].lower() =='up'}\n",
    "\n",
    "print(interfaces_up)\n",
    "print(interfaces_up1)l\n",
    "\n",
    "print('3. número total de interfaces:', end=' ')\n",
    "total_interfaces = len(interfaces.items())\n",
    "print(total_interfaces)\n",
    "\n",
    "print('4. Añadir dos nuevas entradas al diccionario.')\n",
    "interfaces['intnew'].values[('ip':'5.5.5.5.5'),('address_status':'down')]\n",
    "print(interfaces.items())\n"
   ]
  },
  {
   "cell_type": "markdown",
   "metadata": {},
   "source": [
    "# 3 - Crear un diccionario de 10 nombres de usuario y contraseñas. El programa recibe el nombre de usuario y la contraseña por el teclado y luego los busca en el diccionario.  lmprima el mensaje apropiado en la pantalla en función de si se encuentra una coincidencia o no."
   ]
  },
  {
   "cell_type": "code",
   "execution_count": 12,
   "metadata": {},
   "outputs": [
    {
     "name": "stdout",
     "output_type": "stream",
     "text": [
      "{'Eugenio': 'l)ah6XBpWc', 'Coral': 's(7sySmgpk', 'Bernarda': 'HHr94@8v@_', 'Encarnita': 'Vc*GI_gW)3', 'Anselmo': 'C$2zFjiQbH', 'Sergio': '@+5wPsn3lq', 'María Cristina': '_)zNv&GM4c', 'Isa': '((9NuGQy6Y', 'Marino': 'YNT$((wk@7', 'Eufemia': 'i@bkPjb^#2'}\n",
      "Bienvenido  Eugenio\n"
     ]
    }
   ],
   "source": [
    "from faker import Faker \n",
    "fake = Faker(\"es_ES\")\n",
    "\n",
    "from faker.exceptions import UniquenessException\n",
    "\n",
    "from datetime import date, datetime, timedelta\n",
    "from faker.providers.person.es_CO import Provider as EnUSPersonProvider\n",
    "\n",
    "user = tuple(fake.first_name_nonbinary() for _ in range( 10 ))\n",
    "password = tuple(fake.password() for _ in range( 10 ))\n",
    "\n",
    "user_password = dict()\n",
    "for i, u in enumerate(user):\n",
    "    user_password[u] = password[i]\n",
    "\n",
    "print(user_password)\n",
    "\n",
    "name = input('Entre el nombre de usuario: ')\n",
    "password = input('Entre la contraseña: ')\n",
    "\n",
    "if name in user_password:\n",
    "    if password == user_password[name]:\n",
    "        print('Bienvenido ', name)\n",
    "    else:\n",
    "        print('Su contraseña no es correcta')\n",
    "else:\n",
    "    print('el usuario no existe')\n",
    "\n",
    "# region masfunciones\n",
    "    # female_first_name = list(EnUSPersonProvider.first_names_female.keys())\n",
    "    # male_first_name = list(EnUSPersonProvider.first_names_male.keys())\n",
    "    # # nb_first_name = list(EnUSPersonProvider.first_names_nonbinary.keys())\n",
    "    # last_name = list(EnUSPersonProvider.last_names.keys())\n",
    "\n",
    "    # print(female_first_name)\n",
    "    # print(male_first_name)\n",
    "    # # print(nb_first_name)\n",
    "    # print(last_name)    \n",
    "# endregion"
   ]
  },
  {
   "cell_type": "markdown",
   "metadata": {},
   "source": [
    "# 9 - Escriba un programa en Python que combine dos diccionarios en uno solo sumando los valores de aquellas claves que estén repetidas en dicho diccionario."
   ]
  },
  {
   "cell_type": "code",
   "execution_count": 15,
   "metadata": {},
   "outputs": [
    {
     "name": "stdout",
     "output_type": "stream",
     "text": [
      "{'a': 400, 'b': 400, 'c': 300, 'd': 400}\n"
     ]
    },
    {
     "ename": "",
     "evalue": "",
     "output_type": "error",
     "traceback": [
      "\u001b[1;31mThe Kernel crashed while executing code in the current cell or a previous cell. \n",
      "\u001b[1;31mPlease review the code in the cell(s) to identify a possible cause of the failure. \n",
      "\u001b[1;31mClick <a href='https://aka.ms/vscodeJupyterKernelCrash'>here</a> for more info. \n",
      "\u001b[1;31mView Jupyter <a href='command:jupyter.viewOutput'>log</a> for further details."
     ]
    }
   ],
   "source": [
    "# Datos de muestra:\n",
    "d1 ={'a':100, 'b':200, 'c':300}\n",
    "d2 = {'a':300, 'b':200, 'd':400}\n",
    "\n",
    "# d1 = {**d1, **d2}\n",
    "\n",
    "result = d1.copy()  # Hacemos una copia de d1 para no modificar el original\n",
    "for clave, valor in d2.items():\n",
    "    if clave in result:\n",
    "        result[clave] += valor  # Sumamos los valores si la clave ya existe\n",
    "    else:\n",
    "        result[clave] = valor  # Agregamos la nueva clave y su valor\n",
    "\n",
    "print(result)\n",
    "\n",
    "# print(d1)\n",
    "\n",
    "# Salida esperada:\n",
    "# Counter({'a': 400, 'b': 400, 'd': 400, 'c': 300})}"
   ]
  },
  {
   "cell_type": "code",
   "execution_count": null,
   "metadata": {},
   "outputs": [
    {
     "name": "stdout",
     "output_type": "stream",
     "text": [
      "Usuario: Marta\n",
      "  nombre: Marta\n",
      "  edad: 45\n",
      "  ciudad: Buenos Aires\n",
      "  direccion:\n",
      "calle: XXX\n",
      "codigo_postal: 030303\n",
      "  profesión: Desarrolladora\n",
      "  lenguajes: Python, Rust\n",
      "  educación:\n",
      "grado: B.Sc.\n",
      "especialización: Informática\n",
      "Usuario: jose\n",
      "  nombre: jose\n",
      "  edad: 40\n",
      "  ciudad: Buenos Aires\n",
      "  direccion:\n",
      "calle: XXX\n",
      "codigo_postal: 030303\n",
      "  profesión: Desarrolladora\n",
      "  lenguajes: Python, Rust\n",
      "  educación:\n",
      "grado: B.Sc.\n",
      "especialización: Matematicas\n",
      "Usuario: manuel\n",
      "  nombre: manuel\n",
      "  edad: 40\n",
      "  ciudad: Buenos Aires\n",
      "  direccion:\n",
      "calle: XXX\n",
      "codigo_postal: 030303\n",
      "  profesión: Desarrolladora\n",
      "  lenguajes: Python, Rust\n",
      "  educación:\n",
      "grado: B.Sc.\n",
      "especialización: Informática\n"
     ]
    }
   ],
   "source": [
    "mi_diccionario = {'Marta':{\n",
    "    'nombre': 'Marta', \n",
    "    'edad': 45, \n",
    "    'ciudad': 'Buenos Aires',\n",
    "    'direccion': {'calle': 'XXX', 'codigo_postal': '030303'},\n",
    "    'profesión': 'Desarrolladora',\n",
    "    'lenguajes': ['Python', 'Rust'],\n",
    "    'educación': {'grado': 'B.Sc.', 'especialización': 'Informática'}\n",
    "},\n",
    "'jose':{\n",
    "    'nombre': 'jose', \n",
    "    'edad': 40, \n",
    "    'ciudad': 'Buenos Aires',\n",
    "    'direccion': {'calle': 'XXX', 'codigo_postal': '030303'},\n",
    "    'profesión': 'Desarrolladora',\n",
    "    'lenguajes': ['Python', 'Rust'],\n",
    "    'educación': {'grado': 'B.Sc.', 'especialización': 'Matematicas'}\n",
    "    },\n",
    "'manuel':{\n",
    "    'nombre': 'manuel', \n",
    "    'edad': 40, \n",
    "    'ciudad': 'Buenos Aires',\n",
    "    'direccion': {'calle': 'XXX', 'codigo_postal': '030303'},\n",
    "    'profesión': 'Desarrolladora',\n",
    "    'lenguajes': ['Python', 'Rust'],\n",
    "    'educación': {'grado': 'B.Sc.', 'especialización': 'Informática'}\n",
    "    }    \n",
    "}\n",
    "\n",
    "for usuario, detalles in mi_diccionario.items():\n",
    "    print(f\"Usuario: {usuario}\")\n",
    "    for clave, valor in detalles.items():\n",
    "        if isinstance(valor, dict):\n",
    "            print(f\"  {clave}:\")\n",
    "            for subclave, subvalor in valor.items():\n",
    "                print(f\"{subclave}: {subvalor}\")\n",
    "        elif isinstance(valor, list):\n",
    "            print(f\"  {clave}: {', '.join(valor)}\")\n",
    "        else:\n",
    "            print(f\"  {clave}: {valor}\")\n",
    "\n",
    "\n",
    "# for clave, valor in mi_diccionario.items():\n",
    "#     print(f\"{clave}: {valor}\")"
   ]
  },
  {
   "cell_type": "code",
   "execution_count": null,
   "metadata": {},
   "outputs": [
    {
     "name": "stdout",
     "output_type": "stream",
     "text": [
      "37\n",
      "20\n",
      "a = 3\n",
      "b = 10\n",
      "c = 3\n",
      "Suma: 16\n",
      "a = 10\n",
      "b = 20\n",
      "args = 1\n",
      "args = 2\n",
      "args = 3\n",
      "args = 4\n",
      "x = Hola\n",
      "y = Que\n",
      "z = Tal\n"
     ]
    }
   ],
   "source": [
    "def suma(*args):\n",
    "    s = 0\n",
    "    for arg in args:\n",
    "        s += arg\n",
    "    return s\n",
    "\n",
    "print(suma(1, 3, 4, 2, 5, 6, 7, 9))\n",
    "#Salida 10\n",
    "\n",
    "def suma1(*args):\n",
    "    return sum(args)\n",
    "\n",
    "print(suma1(5, 5, 3, 4, 3))\n",
    "\n",
    "\n",
    "def suma2(**kwargs):\n",
    "    s = 0\n",
    "    for key, value in kwargs.items():\n",
    "        print(key, \"=\", value)\n",
    "        s += value\n",
    "    return s\n",
    "    \n",
    "print('Suma:',suma2(a=3, b=10, c=3))\n",
    "\n",
    "def funcion(a, b, *args, **kwargs):\n",
    "    print(\"a =\", a)\n",
    "    print(\"b =\", b)\n",
    "    for arg in args:\n",
    "        print(\"args =\", arg)\n",
    "    for key, value in kwargs.items():\n",
    "        print(key, \"=\", value)\n",
    "\n",
    "funcion(10, 20, 1, 2, 3, 4, x=\"Hola\", y=\"Que\", z=\"Tal\")\n"
   ]
  }
 ],
 "metadata": {
  "kernelspec": {
   "display_name": "Curso_python",
   "language": "python",
   "name": "python3"
  },
  "language_info": {
   "codemirror_mode": {
    "name": "ipython",
    "version": 3
   },
   "file_extension": ".py",
   "mimetype": "text/x-python",
   "name": "python",
   "nbconvert_exporter": "python",
   "pygments_lexer": "ipython3",
   "version": "3.11.9"
  }
 },
 "nbformat": 4,
 "nbformat_minor": 2
}
