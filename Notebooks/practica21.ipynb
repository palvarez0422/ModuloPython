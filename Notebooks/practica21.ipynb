{
 "cells": [
  {
   "cell_type": "markdown",
   "metadata": {},
   "source": [
    "# 1. Crea una tupla con números enteros con algunos de ellos repetidos, pide un numero por teclado e indica cuantas veces se repite si estuviese en la tupla."
   ]
  },
  {
   "cell_type": "code",
   "execution_count": 10,
   "metadata": {},
   "outputs": [
    {
     "name": "stdout",
     "output_type": "stream",
     "text": [
      "(0, 7, 6, 8, 9, 7, 5, 9, 6, 3, 1, 7, 2, 4, 8, 0, 4, 6, 5, 7)\n",
      "El número de veces que está el 7 es: 4\n"
     ]
    }
   ],
   "source": [
    "import random as rn\n",
    "numeros = tuple(rn.randrange(0, 10, 1)  for i in range(20))\n",
    "print(numeros)\n",
    "\n",
    "numero = int(input('Entre un numero del 0 al 9 y le diré cuantos hay en el listado:'))\n",
    "print(f'El número de veces que está el {numero} es: {numeros.count(numero)}')\n",
    "\n"
   ]
  },
  {
   "cell_type": "markdown",
   "metadata": {},
   "source": [
    "# 2. Crea una tupla con números e indica el número con mayor valor y el que menor tenga."
   ]
  },
  {
   "cell_type": "code",
   "execution_count": 13,
   "metadata": {},
   "outputs": [
    {
     "name": "stdout",
     "output_type": "stream",
     "text": [
      "(36, 90, 32, 69, 54, 30, 29, 37, 75, 43, 18, 18, 48, 57, 71, 18, 32, 10, 57, 48)\n",
      "El número mayor es: 90 y el menor es: 10\n"
     ]
    }
   ],
   "source": [
    "import random as rn\n",
    "numeros = tuple(rn.randrange(5, 101, 1)  for i in range(20))\n",
    "print(numeros)\n",
    "\n",
    "print(f'El número mayor es: {max(numeros)} y el menor es: {min(numeros)}')\n"
   ]
  },
  {
   "cell_type": "markdown",
   "metadata": {},
   "source": [
    "# 3. Crea una tupla con valores ya predefinidos del I al 10, pide un índice por teclado y muestra los valores de la tupla."
   ]
  },
  {
   "cell_type": "code",
   "execution_count": 16,
   "metadata": {},
   "outputs": [
    {
     "name": "stdout",
     "output_type": "stream",
     "text": [
      "(5, 2, 5, 9, 10, 6, 8, 5, 7, 2)\n",
      "El número que está en el indice 1 es: 2\n"
     ]
    }
   ],
   "source": [
    "import random as rn\n",
    "numeros = tuple(rn.randrange(1, 11, 1)  for i in range(10))\n",
    "print(numeros)\n",
    "\n",
    "numero = int(input('Entre un numero del 0 al 9 y le diré seleccionó del listado:'))\n",
    "print(f'El número que está en el indice {numero} es: {numeros[numero]}')"
   ]
  },
  {
   "cell_type": "markdown",
   "metadata": {},
   "source": [
    "# 4. Escribir un código donde se le pide al usuario almacenar en una tupla el día, mes y año (todos en formato entero) y luego que imprima dicha fecha en el formato: \"03/07/2023\""
   ]
  },
  {
   "cell_type": "code",
   "execution_count": null,
   "metadata": {},
   "outputs": [],
   "source": [
    "for i in range(3):\n",
    "    numero = int(input('Entre un numero del 0 al 9 y le diré seleccionó del listado:'))"
   ]
  },
  {
   "cell_type": "markdown",
   "metadata": {},
   "source": [
    "# 5. Definir una tupla con tres valores enteros. Convertir el contenido de la tupla a tipo lista. Modificar la lista y luego convertir la lista en tupla."
   ]
  },
  {
   "cell_type": "code",
   "execution_count": 18,
   "metadata": {},
   "outputs": [
    {
     "name": "stdout",
     "output_type": "stream",
     "text": [
      "(2, 2, 9)\n",
      "(2, 20, 9)\n"
     ]
    }
   ],
   "source": [
    "import random as rn\n",
    "numeros = tuple(rn.randrange(1, 11, 1)  for i in range(3))\n",
    "print(numeros)\n",
    "\n",
    "num_list = list(numeros)\n",
    "num_list[1] = 20\n",
    "numeros = tuple(num_list)\n",
    "\n",
    "print(numeros)\n"
   ]
  },
  {
   "cell_type": "markdown",
   "metadata": {},
   "source": [
    "# 6. Crear una tupla y luego imprimirla en orden inverso en otra variable (otra tupla)"
   ]
  },
  {
   "cell_type": "code",
   "execution_count": 27,
   "metadata": {},
   "outputs": [
    {
     "name": "stdout",
     "output_type": "stream",
     "text": [
      "(1, 2, 8, 1, 10, 7, 3, 2, 9, 2)\n",
      "2, 9, 2, 3, 7, 10, 1, 8, 2, 1, "
     ]
    }
   ],
   "source": [
    "import random as rn\n",
    "numeros = tuple(rn.randrange(1, 11, 1)  for i in range(10))\n",
    "print(numeros)\n",
    "\n",
    "resp = tuple(reversed(numeros))\n",
    "\n",
    "for i in resp:\n",
    "    print(i, end=', ')\n"
   ]
  },
  {
   "cell_type": "markdown",
   "metadata": {},
   "source": [
    "# 7. Dada la tupla: ... Acceder al valor '20' e imprimir en una nueva variable"
   ]
  },
  {
   "cell_type": "code",
   "execution_count": 1,
   "metadata": {},
   "outputs": [
    {
     "name": "stdout",
     "output_type": "stream",
     "text": [
      "20\n"
     ]
    },
    {
     "ename": "",
     "evalue": "",
     "output_type": "error",
     "traceback": [
      "\u001b[1;31mThe Kernel crashed while executing code in the current cell or a previous cell. \n",
      "\u001b[1;31mPlease review the code in the cell(s) to identify a possible cause of the failure. \n",
      "\u001b[1;31mClick <a href='https://aka.ms/vscodeJupyterKernelCrash'>here</a> for more info. \n",
      "\u001b[1;31mView Jupyter <a href='command:jupyter.viewOutput'>log</a> for further details."
     ]
    }
   ],
   "source": [
    "tuple1 = ( \"Orange\",[10, 20, 39], (5, 15, 25))\n",
    "\n",
    "valor = tuple(tuple1[1])\n",
    "\n",
    "print(valor[1])\n"
   ]
  },
  {
   "cell_type": "markdown",
   "metadata": {},
   "source": [
    "# 8. Escriba un programa para descomprimir la siguiente tupla en cuatro variables e imprimir cada variable."
   ]
  },
  {
   "cell_type": "code",
   "execution_count": 37,
   "metadata": {},
   "outputs": [
    {
     "name": "stdout",
     "output_type": "stream",
     "text": [
      "10\n",
      "20\n",
      "30\n",
      "40\n"
     ]
    }
   ],
   "source": [
    "tuple1 = (10, 20, 30, 40)\n",
    "\n",
    "a, b, c, d = tuple1\n",
    "\n",
    "print(a)\n",
    "print(b)\n",
    "print(c)\n",
    "print(d)"
   ]
  },
  {
   "cell_type": "markdown",
   "metadata": {},
   "source": [
    "# 9. Intercambiar dos tuplas en Python dados:"
   ]
  },
  {
   "cell_type": "code",
   "execution_count": 40,
   "metadata": {},
   "outputs": [
    {
     "name": "stdout",
     "output_type": "stream",
     "text": [
      "tupla 1: (11, 22)\n",
      " tupla2: (99, 88)\n",
      "\n",
      "tupla 1: (99, 88)\n",
      " tupla2: (11, 22)\n"
     ]
    }
   ],
   "source": [
    "tuple1 = (11, 22)\n",
    "tuple2 = (99, 88)\n",
    "\n",
    "print(f'tupla 1: {tuple1}\\ntupla 2: {tuple2}\\n')\n",
    "\n",
    "tuple1, tuple2 = tuple2, tuple1\n",
    "\n",
    "print(f'tupla 1: {tuple1}\\ntupla 2: {tuple2}')"
   ]
  },
  {
   "cell_type": "markdown",
   "metadata": {},
   "source": [
    "# 10. ¿Cuántas veces aparece 777 en la siguiente tupla? Escribir código"
   ]
  },
  {
   "cell_type": "code",
   "execution_count": 41,
   "metadata": {},
   "outputs": [
    {
     "name": "stdout",
     "output_type": "stream",
     "text": [
      "2\n"
     ]
    }
   ],
   "source": [
    "tt = (55,1,6,777,54,6,76,7777,777,6)\n",
    "\n",
    "print(tt.count(777))"
   ]
  },
  {
   "cell_type": "markdown",
   "metadata": {},
   "source": [
    "# 11. ¿Cuál es la suma de todos los números en la siguiente tupla?"
   ]
  },
  {
   "cell_type": "code",
   "execution_count": 42,
   "metadata": {},
   "outputs": [
    {
     "name": "stdout",
     "output_type": "stream",
     "text": [
      "1306\n"
     ]
    }
   ],
   "source": [
    "tt = (42,2,1092,11,88,65,6)\n",
    "\n",
    "print(sum(tt))\n"
   ]
  },
  {
   "cell_type": "markdown",
   "metadata": {},
   "source": [
    "# 12. ¿Cuáles son los valores mínimo y máximo de la siguiente tupla?\n"
   ]
  },
  {
   "cell_type": "code",
   "execution_count": 44,
   "metadata": {},
   "outputs": [
    {
     "name": "stdout",
     "output_type": "stream",
     "text": [
      "el mayor de la tupla es: 1092 y el número menor es: 2\n"
     ]
    }
   ],
   "source": [
    "tt=(42,2,1092,11,88,65,6)\n",
    "\n",
    "print(f'el mayor de la tupla es: {max(tt)} y el número menor es: {min(tt)}')"
   ]
  },
  {
   "cell_type": "markdown",
   "metadata": {},
   "source": [
    "# 14. Considere la siguiente tupla y escriba el código para las siguientes declaraciones:"
   ]
  },
  {
   "cell_type": "code",
   "execution_count": 4,
   "metadata": {},
   "outputs": [
    {
     "name": "stdout",
     "output_type": "stream",
     "text": [
      "Imprimir el primer elemento es:  12\n",
      "Imprimir el último elemento es:  ('a', 'b')\n",
      "Imprimir T1 en orden inverso:  (('a', 'b'), 'Hockey; Anill', 45, 3, 12)\n",
      "Imprimir \"Anil\" desde la tupla T1:  Anill\n",
      "Imprimir \"Anil\" desde la tupla T1:  b\n"
     ]
    }
   ],
   "source": [
    "T1 = (12, 3, 45, 'Hockey; Anill', ('a', 'b'))\n",
    "\n",
    "\"\"\" a) Imprimir el primer elemento de T1\n",
    "    b) Imprimir el último elemento de T1\n",
    "    c) Imprimir T1 en orden inverso\n",
    "    d) Imprimir 'Anil' desde la tupla T1\n",
    "    e) Imprimir 'b' de la tupla T1\n",
    " \"\"\"\n",
    "\n",
    "first = T1[0]\n",
    "last = T1[len(T1) - 1]\n",
    "inverso = tuple(reversed(T1))\n",
    "anill = tuple(T1[3].split(';'))[1].strip()\n",
    "imp_b = (T1[4])[1]\n",
    "\n",
    "print('Imprimir el primer elemento es: ', first)\n",
    "print('Imprimir el último elemento es: ', last)\n",
    "print('Imprimir T1 en orden inverso: ', inverso)\n",
    "print('Imprimir \"Anil\" desde la tupla T1: ', anill)\n",
    "print('Imprimir \"Anil\" desde la tupla T1: ', imp_b)\n",
    "\n",
    "\n"
   ]
  },
  {
   "cell_type": "markdown",
   "metadata": {},
   "source": [
    "# 15. Escriba un programa que le pida a un usuario una cadena (string), luego convertirlo a una tupla e imprimir."
   ]
  },
  {
   "cell_type": "code",
   "execution_count": 2,
   "metadata": {},
   "outputs": [
    {
     "name": "stdout",
     "output_type": "stream",
     "text": [
      "('p', 'a', 't', 'r', 'i', 'c', 'i', 'a')\n"
     ]
    }
   ],
   "source": [
    "palabra = input('entre una palabra: ')\n",
    "\n",
    "t_palabra = tuple(palabra)\n",
    "print(t_palabra)"
   ]
  }
 ],
 "metadata": {
  "kernelspec": {
   "display_name": "Curso_python",
   "language": "python",
   "name": "python3"
  },
  "language_info": {
   "codemirror_mode": {
    "name": "ipython",
    "version": 3
   },
   "file_extension": ".py",
   "mimetype": "text/x-python",
   "name": "python",
   "nbconvert_exporter": "python",
   "pygments_lexer": "ipython3",
   "version": "3.11.9"
  }
 },
 "nbformat": 4,
 "nbformat_minor": 2
}
