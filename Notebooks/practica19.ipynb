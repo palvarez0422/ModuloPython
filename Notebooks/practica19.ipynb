{
 "cells": [
  {
   "cell_type": "markdown",
   "metadata": {},
   "source": [
    "# 1. Escriba un programa que le pida al usuario un número entero mayor que cero y que luego imprima en pantalla sus divisores."
   ]
  },
  {
   "cell_type": "code",
   "execution_count": 3,
   "metadata": {},
   "outputs": [
    {
     "name": "stdout",
     "output_type": "stream",
     "text": [
      "1\n",
      "2\n",
      "4\n",
      "5\n",
      "8\n",
      "10\n",
      "20\n",
      "40\n"
     ]
    }
   ],
   "source": [
    "number = int(input('Entre un número mayor que cero para calcular sus divisores:'))\n",
    "\n",
    "if type(number) == int and number > 0:\n",
    "    for i in range(1, number+1):\n",
    "        if number % i == 0:\n",
    "            print(i)\n",
    "    "
   ]
  },
  {
   "cell_type": "markdown",
   "metadata": {},
   "source": [
    "# Ejercicios 2, 4, 5"
   ]
  },
  {
   "cell_type": "code",
   "execution_count": 15,
   "metadata": {},
   "outputs": [
    {
     "name": "stdout",
     "output_type": "stream",
     "text": [
      "[4.0, -9.0, -8.0, 52.0, 25.0]\n",
      "Negativos: 2\n",
      "pares: 3\n",
      "impares: 2\n",
      "suma: 64.0\n",
      "Negativos: [-9.0, -8.0]\n",
      "pares: [4.0, -8.0, 52.0]\n",
      "impares: [-9.0, 25.0]\n",
      "suma: 64.0\n"
     ]
    }
   ],
   "source": [
    "\"\"\" 2. Escriba un programa que pregunte al usuario cuántos números se van a introducir, pida\n",
    "esos números y escriba cuántos negativos ha introducido.\n",
    "4. Escriba un programa que pregunte cuántos números se van a introducir, pida esos\n",
    "números, y diga al final cuántos han sido pares y cuántos impares.\n",
    "5. Escriba un programa que pregunte cuantos números se van a introducir, pida esos\n",
    "números (que puedan ser decimales) y calcule su suma.\n",
    "\"\"\"\n",
    "totalNumero = int(input('Entre el total de números a ntroducir:'))\n",
    "negativos = 0\n",
    "pares = 0\n",
    "impares = 0\n",
    "sumaDecimales = 0\n",
    "\n",
    "listaNum = []\n",
    "\n",
    "for i in range(totalNumero):\n",
    "    num = float(input(f'Ingrese el número {i + 1} de {totalNumero}'))\n",
    "    listaNum.append( num)\n",
    "    negativos += 1 if num < 0 else 0\n",
    "    pares += 1 if num % 2 == 0 else 0\n",
    "    impares += 1 if num % 2 != 0 else 0\n",
    "    sumaDecimales += num\n",
    "    # listaNum.append( float(input(f'Ingrese el número {i + 1} de {totalNumero}')))\n",
    "\n",
    "print(listaNum)\n",
    "print(f'Negativos: {negativos}\\npares: {pares}\\nimpares: {impares}\\nsuma: {sumaDecimales}')\n",
    "\n",
    "print(f'Negativos: {sum(lambda x: (x < 0), listaNum)}\\npares: {list(filter(lambda x: (x % 2 == 0), listaNum))}\\nimpares: {list(filter(lambda x: (x % 2 != 0), listaNum))}\\nsuma: {sum(listaNum)}')\n",
    "\n",
    "\n"
   ]
  },
  {
   "cell_type": "markdown",
   "metadata": {},
   "source": [
    "# 3. Escriba un programa que pida dos números enteros y escriba qué números son pares y cuáles impares desde el primero hasta el segundo."
   ]
  },
  {
   "cell_type": "code",
   "execution_count": 25,
   "metadata": {},
   "outputs": [
    {
     "name": "stdout",
     "output_type": "stream",
     "text": [
      "[5, 6, 7, 8, 9, 10, 11, 12, 13, 14, 15, 16, 17, 18, 19, 20]\n",
      "pares: [6, 8, 10, 12, 14, 16, 18, 20]\n",
      "impares: [5, 7, 9, 11, 13, 15, 17, 19]\n",
      "pares: 0\n",
      "impares: 0\n"
     ]
    }
   ],
   "source": [
    "numero_inf = int(input('Entre el número inferior:'))\n",
    "numero_sup = int(input('Entre el número superior:'))\n",
    "\n",
    "listaNum = list(range(numero_inf, numero_sup + 1 ))\n",
    "print(listaNum)\n",
    "\n",
    "print(f'pares: {list(filter(lambda x: (x % 2 == 0), listaNum))}\\nimpares: {list(filter(lambda x: (x % 2 != 0), listaNum))}')\n",
    "print(f'pares: {listaNum.count(filter(lambda x: (x % 2 == 0), listaNum))}\\nimpares: {listaNum.count(filter(lambda x: (x % 2 != 0), listaNum))}')\n"
   ]
  },
  {
   "cell_type": "markdown",
   "metadata": {},
   "source": [
    "# 6. Imprimir todos los dígitos decimales, del 0 al 9, utilizando una repetición."
   ]
  },
  {
   "cell_type": "code",
   "execution_count": 34,
   "metadata": {},
   "outputs": [
    {
     "name": "stdout",
     "output_type": "stream",
     "text": [
      "[0, 1, 2, 3, 4, 5, 6, 7, 8, 9]\n"
     ]
    }
   ],
   "source": [
    "print(list((range(0, 10))))\n",
    "\n"
   ]
  },
  {
   "cell_type": "markdown",
   "metadata": {},
   "source": [
    "# 7. Imprimir todos los números entre el 100 y el 199"
   ]
  },
  {
   "cell_type": "code",
   "execution_count": 35,
   "metadata": {},
   "outputs": [
    {
     "name": "stdout",
     "output_type": "stream",
     "text": [
      "[100, 101, 102, 103, 104, 105, 106, 107, 108, 109, 110, 111, 112, 113, 114, 115, 116, 117, 118, 119, 120, 121, 122, 123, 124, 125, 126, 127, 128, 129, 130, 131, 132, 133, 134, 135, 136, 137, 138, 139, 140, 141, 142, 143, 144, 145, 146, 147, 148, 149, 150, 151, 152, 153, 154, 155, 156, 157, 158, 159, 160, 161, 162, 163, 164, 165, 166, 167, 168, 169, 170, 171, 172, 173, 174, 175, 176, 177, 178, 179, 180, 181, 182, 183, 184, 185, 186, 187, 188, 189, 190, 191, 192, 193, 194, 195, 196, 197, 198, 199]\n"
     ]
    }
   ],
   "source": [
    "print(list((range(100, 200))))"
   ]
  },
  {
   "cell_type": "markdown",
   "metadata": {},
   "source": [
    "# 8. Imprimir los números entre el 5 y el 20, saltando de tres en tres"
   ]
  },
  {
   "cell_type": "code",
   "execution_count": 2,
   "metadata": {},
   "outputs": [
    {
     "name": "stdout",
     "output_type": "stream",
     "text": [
      "[1, 4, 7, 10, 13, 16, 19]\n"
     ]
    }
   ],
   "source": [
    "print(list(range(1,20,3)))"
   ]
  },
  {
   "cell_type": "markdown",
   "metadata": {},
   "source": [
    "# 9 y 10. Solicitar al usuario que ingrese una frase y luego imprimir un listado de las vocales que aparecen en esa frase (sin repetirlas) y el total de vocales repetidas."
   ]
  },
  {
   "cell_type": "code",
   "execution_count": 14,
   "metadata": {},
   "outputs": [
    {
     "name": "stdout",
     "output_type": "stream",
     "text": [
      "vocales en: \"Esta es una FrAsE pAra las VocAlEs  y es dificil\"\n",
      " => ['E', 'a', 'e', 'u', 'a', 'A', 'E', 'A', 'a', 'a', 'o', 'A', 'E', 'e', 'i', 'i', 'i']\n",
      " => Total de vocales:17\n",
      " => No repetidas: {'i', 'a', 'E', 'A', 'u', 'e', 'o'}\n",
      " => Totoal No Repetidas: 7\n"
     ]
    }
   ],
   "source": [
    "frase = input('Entre una frase:')\n",
    "vocales= 'aeiouAEIOU'\n",
    "listvocales = [c for c in frase if c in vocales]\n",
    "norepetidas = set(listvocales)\n",
    "print(f'vocales en: \"{frase}\"\\n => {listvocales}\\n => Total de vocales:{len(listvocales)}\\n => No repetidas: {norepetidas}\\n => Totoal No Repetidas: {len(norepetidas)}')"
   ]
  },
  {
   "cell_type": "markdown",
   "metadata": {},
   "source": [
    "# 11. Escribir un programa que muestre la sumatoria de todos los números entre el 0 y el 100."
   ]
  },
  {
   "cell_type": "code",
   "execution_count": 16,
   "metadata": {},
   "outputs": [
    {
     "name": "stdout",
     "output_type": "stream",
     "text": [
      "La sumatoria de los números entre 0 y 100 es: 5050\n"
     ]
    }
   ],
   "source": [
    "suma = sum(list(range(101)))\n",
    "print('La sumatoria de los números entre 0 y 100 es:', suma)"
   ]
  },
  {
   "cell_type": "markdown",
   "metadata": {},
   "source": [
    "# 12. Escribir un programa que muestre la sumatoria de todos los múltiplos de 3 encontrados entre el 0 y el 100."
   ]
  },
  {
   "cell_type": "code",
   "execution_count": 18,
   "metadata": {},
   "outputs": [
    {
     "name": "stdout",
     "output_type": "stream",
     "text": [
      "[0, 3, 6, 9, 12, 15, 18, 21, 24, 27, 30, 33, 36, 39, 42, 45, 48, 51, 54, 57, 60, 63, 66, 69, 72, 75, 78, 81, 84, 87, 90, 93, 96, 99]\n"
     ]
    }
   ],
   "source": [
    "multiplosDe3 = [ x for x in range(101) if x % 3 ==0 ]\n",
    "print(multiplosDe3)"
   ]
  },
  {
   "cell_type": "markdown",
   "metadata": {},
   "source": [
    "# 13. Escribir un programa que permita al usuario ingresar 6 números enteros, que pueden ser positivos o negativos. Al finalizar, mostrar la sumatoria de los números negativos y el promedio"
   ]
  },
  {
   "cell_type": "code",
   "execution_count": 36,
   "metadata": {},
   "outputs": [
    {
     "name": "stdout",
     "output_type": "stream",
     "text": [
      "Sumatoria y promedio de: [4, 0, 0, 2, 6] es:\n",
      " => sumatoria: 12 \n",
      " => Promedio: 2.4\n"
     ]
    }
   ],
   "source": [
    "lisNumeros = [int(input('Entre un número entero: ')) for x in range(6)]\n",
    "\n",
    "if len(lisNumeros) > 0:\n",
    "    print( f'Sumatoria y promedio de: {lisNumeros} es:\\n => sumatoria: {sum(lisNumeros)} \\n => Promedio: {sum(lisNumeros)/len(lisNumeros)}' )\n",
    "else:\n",
    "    print('No entro ningun número.')\n"
   ]
  },
  {
   "cell_type": "markdown",
   "metadata": {},
   "source": [
    "# 14. Dado un número entero positivo, mostrar su factorial."
   ]
  },
  {
   "cell_type": "code",
   "execution_count": 45,
   "metadata": {},
   "outputs": [
    {
     "name": "stdout",
     "output_type": "stream",
     "text": [
      "-5\n"
     ]
    }
   ],
   "source": [
    "def Factorial(num:int):\n",
    "    if num > 2:\n",
    "        return num * Factorial(num - 1)\n",
    "    else:\n",
    "        return num\n",
    "\n",
    "numero = int(input('entre un número para calcular su factorial: '))\n",
    "\n",
    "print(Factorial(numero))"
   ]
  },
  {
   "cell_type": "markdown",
   "metadata": {},
   "source": [
    "# 15. Escribir un programa que pida al usuario una palabra y luego muestre por pantalla una a una las letras de la palabra introducida empezando por la última"
   ]
  },
  {
   "cell_type": "code",
   "execution_count": 55,
   "metadata": {},
   "outputs": [
    {
     "name": "stdout",
     "output_type": "stream",
     "text": [
      "['a', 'b', 'e', 'u', 'r', 'p']\n",
      "<list_reverseiterator object at 0x0000012070692E90>\n",
      "None\n"
     ]
    }
   ],
   "source": [
    "palabra = input('Entre una palabra: ')\n",
    "print([c for c in reversed(palabra)])\n"
   ]
  }
 ],
 "metadata": {
  "kernelspec": {
   "display_name": "Curso_python",
   "language": "python",
   "name": "python3"
  },
  "language_info": {
   "codemirror_mode": {
    "name": "ipython",
    "version": 3
   },
   "file_extension": ".py",
   "mimetype": "text/x-python",
   "name": "python",
   "nbconvert_exporter": "python",
   "pygments_lexer": "ipython3",
   "version": "3.11.9"
  }
 },
 "nbformat": 4,
 "nbformat_minor": 2
}
