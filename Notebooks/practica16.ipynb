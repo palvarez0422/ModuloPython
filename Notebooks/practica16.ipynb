{
 "cells": [
  {
   "cell_type": "markdown",
   "metadata": {},
   "source": [
    "# Desarrolle un programa que le pregunte al usuario por la edad y que luego imprima en pantalla si dicho usuario es menor o mayor de edad."
   ]
  },
  {
   "cell_type": "code",
   "execution_count": 2,
   "metadata": {},
   "outputs": [
    {
     "name": "stdout",
     "output_type": "stream",
     "text": [
      "Usted es menor de edad\n"
     ]
    }
   ],
   "source": [
    "edad = int(input('Entre su edad: '))\n",
    "\n",
    "if (edad >= 18):\n",
    "    print('Usted es mayor de edad')\n",
    "else:\n",
    "    print('Usted es menor de edad')\n"
   ]
  },
  {
   "cell_type": "markdown",
   "metadata": {},
   "source": [
    "# Escribir un programa que pida al usuario un número entero y que luego imprima en pantalla si dicho número es o no divisible entre 2."
   ]
  },
  {
   "cell_type": "code",
   "execution_count": 4,
   "metadata": {},
   "outputs": [
    {
     "name": "stdout",
     "output_type": "stream",
     "text": [
      "El número NO es divisible por dos (número impar)\n"
     ]
    }
   ],
   "source": [
    "numero = int(input('Entre un número para evaluar si es divisible por 2:'))\n",
    "\n",
    "if (numero % 2 == 0):\n",
    "    print('El número es divisible por dos (número par)')\n",
    "else:\n",
    "    print('El número NO es divisible por dos (número impar)')\n"
   ]
  },
  {
   "cell_type": "markdown",
   "metadata": {},
   "source": [
    "# Escriba un programa que pida al usuario dos números enteros y que calcule su división, indicando si la división es exacta o no."
   ]
  },
  {
   "cell_type": "code",
   "execution_count": 7,
   "metadata": {},
   "outputs": [
    {
     "name": "stdout",
     "output_type": "stream",
     "text": [
      "La división entre 15 y 3 es exacta\n"
     ]
    }
   ],
   "source": [
    "numero1 = int(input('Entre el primer número para evaluar si es división exacta:'))\n",
    "numero2 = int(input('Entre el segundo número para evaluar si es división exacta:'))\n",
    "\n",
    "if numero1 % numero2 == 0:\n",
    "    print(f'La división entre {numero1} y {numero2} es exacta')\n",
    "else:\n",
    "    print(f'La división entre {numero1} y {numero2} es inexacta')\n"
   ]
  },
  {
   "cell_type": "markdown",
   "metadata": {},
   "source": [
    "# Compruebe si dicho año es bisiesto o no lo es."
   ]
  },
  {
   "cell_type": "code",
   "execution_count": 13,
   "metadata": {},
   "outputs": [
    {
     "name": "stdout",
     "output_type": "stream",
     "text": [
      "El año 2022 es bisiesto\n"
     ]
    }
   ],
   "source": [
    "year = int(input('Entre al año para evaluar (año de 4 cifas:)'))\n",
    "\n",
    "if year %  4 == 0 and (year % 100 > 0 or year % 400 == 0):\n",
    "    print(f'El año {year} es bisiesto')\n",
    "else:\n",
    "    print(f'El año {year} NO es bisiesto')\n"
   ]
  },
  {
   "cell_type": "markdown",
   "metadata": {},
   "source": [
    "# Imprima en a que generación pertenece el usuario"
   ]
  },
  {
   "cell_type": "code",
   "execution_count": 19,
   "metadata": {},
   "outputs": [
    {
     "name": "stdout",
     "output_type": "stream",
     "text": [
      "Usted pertenece a la generación \"T\" (\"ALFA\")\n"
     ]
    }
   ],
   "source": [
    "bornYear = int(input('El el año de naciemiento con 4 cifras:'))\n",
    "\n",
    "if bornYear in range(1930,1948):\n",
    "    print('Usted pertenece a la generación \"Silenciosa\"')\n",
    "elif bornYear in range(1949,1968):\n",
    "    print('Usted pertenece a la generación \"BABY BOOMERS\"')\n",
    "elif bornYear in range(1969,1980):\n",
    "    print('Usted pertenece a la generación \"GENERACIÓN X\"')\n",
    "# elif bornYear in range(1977,1983):\n",
    "#     print('Usted pertenece a la generación \"MICROGENERACIÓN XENNIALS\"')\n",
    "elif bornYear in range(1981,1993):\n",
    "    print('Usted pertenece a la generación \"MILLENNIALS\"')\n",
    "elif bornYear in range(1994,2010):\n",
    "    print('Usted pertenece a la generación \"Z\"')\n",
    "elif bornYear in range(2011,2025):\n",
    "    print('Usted pertenece a la generación \"T\" (\"ALFA\")')\n",
    "\n"
   ]
  }
 ],
 "metadata": {
  "kernelspec": {
   "display_name": "Curso_python",
   "language": "python",
   "name": "python3"
  },
  "language_info": {
   "codemirror_mode": {
    "name": "ipython",
    "version": 3
   },
   "file_extension": ".py",
   "mimetype": "text/x-python",
   "name": "python",
   "nbconvert_exporter": "python",
   "pygments_lexer": "ipython3",
   "version": "3.11.9"
  }
 },
 "nbformat": 4,
 "nbformat_minor": 2
}
