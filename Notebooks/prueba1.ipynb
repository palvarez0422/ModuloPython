{
 "cells": [
  {
   "cell_type": "markdown",
   "id": "f16a8122-f4ce-41ed-85da-ed6a767b95ba",
   "metadata": {},
   "source": [
    "# Actividad"
   ]
  },
  {
   "cell_type": "code",
   "execution_count": 4,
   "id": "5a1a1207-901c-4a80-bcc1-cd9352c350d8",
   "metadata": {},
   "outputs": [
    {
     "name": "stdout",
     "output_type": "stream",
     "text": [
      "<class 'str'>\n",
      "<class 'bool'>\n",
      "tipo variable de result: <class 'float'> \n"
     ]
    }
   ],
   "source": [
    "space_odyssey = 2001\n",
    "print(type('Good nightb & Godd luck'))\n",
    "print(type(True))\n",
    "result = 10 * 3.0\n",
    "print(f'tipo variable de result: {type(result)} ')"
   ]
  },
  {
   "cell_type": "markdown",
   "id": "75b4248d",
   "metadata": {},
   "source": [
    "Operando con variables numéricas"
   ]
  },
  {
   "cell_type": "code",
   "execution_count": 5,
   "id": "9cac902a-644b-417c-9d30-81fd41e30e79",
   "metadata": {},
   "outputs": [
    {
     "name": "stdout",
     "output_type": "stream",
     "text": [
      "6\n"
     ]
    }
   ],
   "source": [
    "x = 3\n",
    "#Sobreescribir la variable\n",
    "x = x +1\n",
    "\n",
    "#Asinar resultado en otra variable\n",
    "y = x + 1\n",
    "\n",
    "#Sumar valor a la misma variable\n",
    "x += 2\n",
    "\n",
    "print(x)\n",
    "\n"
   ]
  },
  {
   "cell_type": "markdown",
   "id": "c01c8005",
   "metadata": {},
   "source": [
    "Operaciones con string"
   ]
  },
  {
   "cell_type": "code",
   "execution_count": 8,
   "id": "8284ef56",
   "metadata": {},
   "outputs": [
    {
     "name": "stdout",
     "output_type": "stream",
     "text": [
      "hola\n",
      "a\n",
      "\ttodos\n"
     ]
    }
   ],
   "source": [
    "#Saltos de línea y tabuladores (\\n y \\t)\n",
    "saltos = 'hola\\na\\n\\ttodos'\n",
    "print(saltos)"
   ]
  },
  {
   "cell_type": "markdown",
   "id": "cabf9931",
   "metadata": {},
   "source": [
    "Formateo de estring y números"
   ]
  },
  {
   "cell_type": "code",
   "execution_count": 12,
   "id": "4cbc5a61",
   "metadata": {},
   "outputs": [
    {
     "name": "stdout",
     "output_type": "stream",
     "text": [
      "Mi nombre es Carlos y me apellido Rodriguez Lopez\n",
      "el apellido tiene 2 'o' y tiene una longitud de 15\n"
     ]
    }
   ],
   "source": [
    "name = 'Carlos'\n",
    "lastName = 'Rodriguez Lopez'\n",
    "print(f'Mi nombre es {name} y me apellido {lastName}')\n",
    "\n",
    "#Cuenta las 'o' que hay en apellido\n",
    "print(f\"el apellido tiene {lastName.count('o')} 'o' y tiene una longitud de {len(lastName)}\")"
   ]
  },
  {
   "cell_type": "markdown",
   "id": "d412a968",
   "metadata": {},
   "source": [
    "Operaciones númericas"
   ]
  },
  {
   "cell_type": "code",
   "execution_count": 20,
   "id": "91110105",
   "metadata": {},
   "outputs": [
    {
     "name": "stdout",
     "output_type": "stream",
     "text": [
      "(1-7j)\n",
      "real: 1.0\n",
      "imaginario: -7.0 \n",
      "(7-2j)\n"
     ]
    }
   ],
   "source": [
    "pow(5,3)\n",
    "z = complex(1,-7)\n",
    "print(z)\n",
    "print(f'real: {z.real}\\nimaginario: {z.imag} ')\n",
    "\n",
    "z1 = 2 - 6j\n",
    "z2 = 5 + 4j\n",
    "print(z1+z2)"
   ]
  }
 ],
 "metadata": {
  "kernelspec": {
   "display_name": "Python 3 (ipykernel)",
   "language": "python",
   "name": "python3"
  },
  "language_info": {
   "codemirror_mode": {
    "name": "ipython",
    "version": 3
   },
   "file_extension": ".py",
   "mimetype": "text/x-python",
   "name": "python",
   "nbconvert_exporter": "python",
   "pygments_lexer": "ipython3",
   "version": "3.11.9"
  }
 },
 "nbformat": 4,
 "nbformat_minor": 5
}
