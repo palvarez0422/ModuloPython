{
 "cells": [
  {
   "cell_type": "markdown",
   "metadata": {},
   "source": [
    "# 1. Escribe expresiones condicionales para"
   ]
  },
  {
   "cell_type": "code",
   "execution_count": 6,
   "metadata": {},
   "outputs": [
    {
     "name": "stdout",
     "output_type": "stream",
     "text": [
      "20\n"
     ]
    }
   ],
   "source": [
    "# If a < 10 b = 20, else 30\n",
    "# Print 'Morning' if time < 12, otherwise print 'Afternoon'\n",
    "# If marks >= 70, set remarks to True, otherwise False\n",
    "\n",
    "a = 2\n",
    "\n",
    "b = 20 if a < 10 else 30\n",
    "\n",
    "print(b)"
   ]
  },
  {
   "cell_type": "markdown",
   "metadata": {},
   "source": [
    "# 2. Vuelva a escribir el siguiente fragmento de código en 2 líneas:"
   ]
  },
  {
   "cell_type": "code",
   "execution_count": 7,
   "metadata": {},
   "outputs": [
    {
     "name": "stdout",
     "output_type": "stream",
     "text": [
      "x and y are equal\n"
     ]
    }
   ],
   "source": [
    "# Y = 3.0\n",
    "# if x == y\n",
    "# print('x and y are equal')\n",
    "# print('x and y are not equal')\n",
    "\n",
    "x = 3\n",
    "y = 3.0\n",
    "print('x and y are equal') if x == y else print('x and y are not equal')"
   ]
  },
  {
   "cell_type": "markdown",
   "metadata": {},
   "source": [
    "# 3. ¿Cuál será el resultado de los siguientes programas?. Explicar en una celda de texto o en comentario que hace cada código"
   ]
  },
  {
   "cell_type": "code",
   "execution_count": 2,
   "metadata": {},
   "outputs": [
    {
     "name": "stdout",
     "output_type": "stream",
     "text": [
      "(a) w = 4, x = 0, y= 4, z = -1\n",
      "(b) a = True\n",
      "(c) biggest = 45\n",
      "(d) 500\n",
      "(e) Hello\n",
      "(f) Hi\n",
      "(g) Hello\n",
      "(h) Hi\n",
      "(i) Hi\n"
     ]
    }
   ],
   "source": [
    "\n",
    "i, j, k = 4, -1, 0\n",
    "w= i or j or k\n",
    "x = i and j and k\n",
    "y= i or j and k\n",
    "z = i and j or k\n",
    "print(f'(a) w = {w}, x = {x}, y= {y}, z = {z}')\n",
    "\n",
    "a = 10\n",
    "a = not not a\n",
    "print(f'(b) a = {a}')\n",
    "\n",
    "x, y, z = 20, 40, 45\n",
    "if x > y and x > z:\n",
    "    print('(c) biggest = ' + str(x))\n",
    "elif y > x and y > z:\n",
    "    print('(c) biggest = ' + str(y))\n",
    "elif z > x and z > y:\n",
    "    print('(c) biggest = ' + str(z))\n",
    "\n",
    "num = 30\n",
    "k = 100 if num <= 10 else 500 \n",
    "print(f'(d) {k}')\n",
    "\n",
    "a = 10\n",
    "b = 60\n",
    "if a and b > 20:\n",
    "    print('(e) Hello')\n",
    "else:\n",
    "    print('(e) Hi')\n",
    "\n",
    "a = 10\n",
    "b = 60\n",
    "if a > 20 and b > 20:\n",
    "    print('(f) Hello')\n",
    "else:\n",
    "    print('(f) Hi')\n",
    "\n",
    "a = 10\n",
    "if a == 30 or 40 or 60:\n",
    "    print('(g) Hello')\n",
    "else:\n",
    "    print('(g) Hi')\n",
    "\n",
    "a = 10\n",
    "if a == 30 or a == 40 or a == 60:\n",
    "    print('(h) Hello')\n",
    "else:\n",
    "    print('(h) Hi')\n",
    "\n",
    "a = 10\n",
    "if a in (30, 40, 50):\n",
    "    print('(i) Hello')\n",
    "else:\n",
    "    print('(i) Hi')\n",
    "\n",
    "\n",
    "\"\"\" resp:\n",
    "    (a) w = 4, x = 0, y= 4, z = -1\n",
    "    (b) a = True\n",
    "    (c) biggest = 45\n",
    "    (d) 500\n",
    "    (e) Hello\n",
    "    (f) Hi\n",
    "    (g) Hello\n",
    "    (h) Hi\n",
    "    (i) Hi \"\"\""
   ]
  },
  {
   "cell_type": "markdown",
   "metadata": {},
   "source": [
    "# 4. Señala los errores, si los hay, en los siguientes programas:"
   ]
  },
  {
   "cell_type": "code",
   "execution_count": 4,
   "metadata": {},
   "outputs": [
    {
     "name": "stdout",
     "output_type": "stream",
     "text": [
      "Carpathians\n",
      "\n"
     ]
    }
   ],
   "source": [
    "#(a)\n",
    "a = 12.25\n",
    "b = 12.52\n",
    "\n",
    "if a == b: \n",
    "    print('(a) a and b are equal')\n",
    "\n",
    "# Error porque la igualdad es con ==, si fuera un error al comparar, no habría mingún error y no muestra nada en pantalla\n",
    "\n",
    "#(b)\n",
    "\"\"\" if ord('X') < ord('x')\n",
    "    print('Unicode value of X is smaller than that of x') \"\"\"\n",
    "# Faltan los dos puntos (:) al finalizar la instrucción if\n",
    "\n",
    "#(c)\n",
    "\"\"\" x = 10\n",
    "if x >=2 then\n",
    "print('x') \"\"\"\n",
    "# error en el if: (la palabra 'then' no es sintaxis de Pythom)\n",
    "\n",
    "#(d)\n",
    "\"\"\" x = 10 ; y = 15\n",
    "if x % 2 = y % 3\n",
    "    print('Carpathians\\n') \"\"\"\n",
    "#Errores: Falta el == y los dos puntos (:) en el if\n",
    "\n",
    "#(e)\n",
    "\"\"\" x, 30, 40\n",
    "if x == y\n",
    "    print('x is equal to y')\n",
    "elseif x > y :\n",
    "    print('x is greater than y')\n",
    "elseif x < y :\n",
    "    print('x is less than y') \"\"\"\n",
    "#Error, es elif y no elseif, además faltan los dos puntos (:) en el primer if\n"
   ]
  },
  {
   "cell_type": "markdown",
   "metadata": {},
   "source": [
    "# 5. If a = 10, b = 12, c = 0, encuentra los valores de las siguientes expresiones :"
   ]
  },
  {
   "cell_type": "code",
   "execution_count": 5,
   "metadata": {},
   "outputs": [
    {
     "name": "stdout",
     "output_type": "stream",
     "text": [
      "True\n",
      "False\n",
      "True\n",
      "True\n",
      "0\n"
     ]
    }
   ],
   "source": [
    "\"\"\" a, b, c = 10, 12, 0\n",
    "\n",
    "a != 6 and b > 5     # True\n",
    "a == 9 or b < 3      # False\n",
    "not (a < 10 )        # True\n",
    "not(a > 5 and c)     # True\n",
    "5 and c or c         # 0 \"\"\"\n"
   ]
  },
  {
   "cell_type": "markdown",
   "metadata": {},
   "source": [
    "# 6. Programe lo siguiente:"
   ]
  },
  {
   "cell_type": "code",
   "execution_count": 18,
   "metadata": {},
   "outputs": [
    {
     "name": "stdout",
     "output_type": "stream",
     "text": [
      "Las coordenadas se encuentran en ambos ejes\n"
     ]
    }
   ],
   "source": [
    "\"\"\" a. Cualquier número entero se ingresa a través del teclado. Escribe un programa para averiguar si es un \n",
    "número par o impar. \"\"\"\n",
    "\n",
    "numero = int(input('entre un nuemro entero:'))\n",
    "print('Es par' if numero % 2 == 0 else 'Es impar')\n",
    "\n",
    "\"\"\" b. Si las edades de Sara, Sofía y Ana se ingresan a través del teclado, escriba un programa para determinar \n",
    "el más joven de las tres. \"\"\"\n",
    "\n",
    "edadSofia = int(input('entre la edad de Sofia:'))\n",
    "edadAna = int(input('entre la edad de Ana:'))\n",
    "edadSara = int(input('entre la edad de Sara:'))\n",
    "\n",
    "print(f'Ingreso Sofia: {edadSofia} años, Ana: {edadAna} años, Sara:{edadSara} años, La menor es de {min(edadSofia, edadAna, edadSara)} años')\n",
    "\n",
    "\"\"\" c. Dado un punto (x, y), escriba un programa para averiguar si se encuentra en el eje X, el eje Y o en el origen del plano\n",
    "caretsiano. \"\"\"\n",
    "\n",
    "x = int(input('Entre el valor para x:'))\n",
    "y = int(input('Entre el valor para y:'))\n",
    "\n",
    "if x == 0 and y != 0:\n",
    "    print('está en el eje Y')\n",
    "elif y == 0 and x != 0:\n",
    "    print('está en el eje X')\n",
    "elif y == 0 and x == 0:\n",
    "    print('está en el ORIGEN')\n",
    "else:\n",
    "   print('Las coordenadas se encuentran en ambos ejes') \n"
   ]
  },
  {
   "cell_type": "markdown",
   "metadata": {},
   "source": [
    "# 7. Años de perro"
   ]
  },
  {
   "cell_type": "code",
   "execution_count": 24,
   "metadata": {},
   "outputs": [
    {
     "name": "stdout",
     "output_type": "stream",
     "text": [
      "Tu edad equivale a 2.857142857142857 anos de perro\n"
     ]
    }
   ],
   "source": [
    "\"\"\" Comúnmente se dice que un año humano equivale a 7 años caninos. Escriba un programa que \n",
    "implemente la conversión de años humanos a años caninos. \"\"\"\n",
    "\n",
    "edadHumano = int(input('Entre su edad:'))\n",
    "\n",
    "print(f'Tu edad equivale a {edadHumano / 7} anos de perro')\n",
    "\n"
   ]
  },
  {
   "cell_type": "markdown",
   "metadata": {},
   "source": [
    "# 8. Niveles de sonido"
   ]
  },
  {
   "cell_type": "code",
   "execution_count": 33,
   "metadata": {},
   "outputs": [
    {
     "name": "stdout",
     "output_type": "stream",
     "text": [
      "los decibelios están por debajo de Quiet Room, un nivel bajo\n"
     ]
    }
   ],
   "source": [
    "nivelSonido = int(input('Entre el nivel de sonido:'))\n",
    "\n",
    "decibelios = {130:'Jackhammer', 106 : 'Gas Lawnmower', 70:'Alarm Clock', 40:'Quiet Room'}\n",
    "\n",
    "minimo_key = min(decibelios.keys())\n",
    "maximo_key = max(decibelios.keys())\n",
    "\n",
    "# for key,val in decibelios.items():\n",
    "#    if(key==nivelSonido):\n",
    "#       print(f'los decibelios están en \"{val}\" ')\n",
    "\n",
    "\n",
    "# nivelDecibelio = str(nivelSonido) in(decibelios.keys)\n",
    "if  nivelSonido in decibelios:\n",
    "    print(f'los decibelios están en \"{decibelios[nivelSonido]}\" ')\n",
    "elif nivelSonido < minimo_key:\n",
    "    print(f\"los decibelios están por debajo de {decibelios.get(minimo_key)}, un nivel bajo\")\n",
    "elif nivelSonido > maximo_key:\n",
    "    print(f\"los decibelios están por encima de {decibelios[maximo_key]}, un nivel alto\")\n",
    "elif  minimo_key < nivelSonido < 70:\n",
    "    print(f\"los decibelios están entre {decibelios[minimo_key]} y {decibelios[70]}\")\n",
    "elif 70 < nivelSonido < 106:\n",
    "    print(f\"los decibelios están entre {decibelios[70]} y {decibelios[106]}\")\n",
    "elif 106 < nivelSonido < maximo_key:\n",
    "    print(f\"los decibelios están entre {decibelios[106]} y {decibelios[maximo_key]}\")\n",
    "\n",
    "\n",
    "# print(decibelios > decibelios.keys())\n"
   ]
  },
  {
   "cell_type": "markdown",
   "metadata": {},
   "source": [
    "# 9. De la nota a la frecuencia"
   ]
  },
  {
   "cell_type": "code",
   "execution_count": 35,
   "metadata": {},
   "outputs": [
    {
     "name": "stdout",
     "output_type": "stream",
     "text": [
      "la frecuencia para la nota \"GF\" es: \"la Nota no existe\" \n"
     ]
    }
   ],
   "source": [
    "nota = input('Entre la nota para mostrar su frecuencia:')\n",
    "\n",
    "frecuancias = {'C4':261.63, 'D4' : 293.66, 'E4':329.63, 'F4':349.23, 'G4': 392.00, 'A4': 440.00, 'B4': 493.88}\n",
    "\n",
    "print(f'la frecuencia para la nota \"{nota}\" es: \"{frecuancias.get(nota, \"la Nota no existe\")}\" ')\n"
   ]
  },
  {
   "cell_type": "markdown",
   "metadata": {},
   "source": [
    "# 10. Caras en los billetes de $"
   ]
  },
  {
   "cell_type": "code",
   "execution_count": 1,
   "metadata": {},
   "outputs": [
    {
     "name": "stdout",
     "output_type": "stream",
     "text": [
      "La cara del billete de 100 dollares es Benjamin Franklin\n"
     ]
    }
   ],
   "source": [
    "faces = {\n",
    "    1 : 'George Washington',\n",
    "    2 : 'Thomas Jefferson',\n",
    "    5 : 'Abraham Lincoln',\n",
    "    10 : 'Alexander Hamilton',\n",
    "    20 : 'Andrew Jackson',\n",
    "    50 : 'Ulysses S. Grant',\n",
    "    100 : 'Benjamin Franklin',\n",
    "}\n",
    "\n",
    "bill = int(input('Entre la nominación del billete de dolar (1, 2, 5, 10, 50 o 100):'))\n",
    "\n",
    "print(f'La cara del billete de {bill} dollares es {faces.get(bill, \"El billete no exist\")}')"
   ]
  },
  {
   "cell_type": "markdown",
   "metadata": {},
   "source": [
    "# 11. Estaciones del año"
   ]
  },
  {
   "cell_type": "code",
   "execution_count": 48,
   "metadata": {},
   "outputs": [
    {
     "name": "stdout",
     "output_type": "stream",
     "text": [
      "Hemisferio inválido\n"
     ]
    }
   ],
   "source": [
    "dia =  int(input('Entre el dia para saber la estación del año:'))\n",
    "mes =  input('Ahora el nombre del mes:').lower()\n",
    "hemisferio =  (input('Por último el emisferio (norte o sur):').strip() or 'norte').lower()\n",
    "\n",
    "if hemisferio.lower() == \"norte\":\n",
    "    if (mes == \"marzo\" and dia >= 20) or (mes == \"abril\") or (mes == \"mayo\") or (mes == \"junio\" and dia < 21):\n",
    "        resp = \"Primavera\"\n",
    "    elif (mes == \"junio\" and dia >= 21) or (mes == \"julio\") or (mes == \"agosto\") or (mes == \"septiembre\" and dia < 23):\n",
    "        resp = \"Verano\"\n",
    "    elif (mes == \"septiembre\" and dia >= 23) or (mes == \"octubre\") or (mes == \"noviembre\") or (mes == \"diciembre\" and dia < 21):\n",
    "        resp = \"Otoño\"\n",
    "    elif (mes == \"diciembre\" and dia >= 21) or (mes == \"enero\") or (mes == \"febrero\") or (mes == \"marzo\" and dia < 20):\n",
    "        resp = \"Invierno\"\n",
    "    else:\n",
    "        resp = \"Fecha inválida\"\n",
    "\n",
    "elif hemisferio.lower() == \"sur\":\n",
    "    if (mes == \"septiembre\" and dia >= 23) or (mes == \"octubre\") or (mes == \"noviembre\") or (mes == \"diciembre\" and dia < 21):\n",
    "        resp = \"Primavera\"\n",
    "    elif (mes == \"diciembre\" and dia >= 21) or (mes == \"enero\") or (mes == \"febrero\") or (mes == \"marzo\" and dia < 20):\n",
    "        resp = \"Verano\"\n",
    "    elif (mes == \"marzo\" and dia >= 20) or (mes == \"abril\") or (mes == \"mayo\") or (mes == \"junio\" and dia < 21):\n",
    "        resp = \"Otoño\"\n",
    "    elif (mes == \"junio\" and dia >= 21) or (mes == \"julio\") or (mes == \"agosto\") or (mes == \"septiembre\" and dia < 23):\n",
    "        resp = \"Invierno\"\n",
    "    else:\n",
    "        resp = \"Fecha inválida\"\n",
    "\n",
    "else:\n",
    "    resp = \"Hemisferio inválido\"\n",
    "\n",
    "print(resp)"
   ]
  },
  {
   "cell_type": "markdown",
   "metadata": {},
   "source": [
    "# 12. Tu Signo del zodiaco según fecha de nacimiento"
   ]
  },
  {
   "cell_type": "code",
   "execution_count": 40,
   "metadata": {},
   "outputs": [
    {
     "name": "stdout",
     "output_type": "stream",
     "text": [
      "Naciste el 17 de agosto y eres Leo\n"
     ]
    }
   ],
   "source": [
    "dia =  int(input('Entre el dia de su fecha de nacimiento para saber que signo zodiacal eres:'))\n",
    "mes =  input('Ahora el nombre del mes de su fecha de nacimiento:')\n",
    "\n",
    "mes = mes.lower()\n",
    "resp = 'Mes inválido'\n",
    "\n",
    "if mes == \"enero\":\n",
    "    resp = \"Capricornio\" if dia <= 19 else \"Acuario\"\n",
    "elif mes == \"febrero\":\n",
    "    resp = \"Acuario\" if dia <= 18 else \"Piscis\"\n",
    "elif mes == \"marzo\":\n",
    "    resp = \"Piscis\" if dia <= 20 else \"Aries\"\n",
    "elif mes == \"abril\":\n",
    "    resp = \"Aries\" if dia <= 19 else \"Tauro\"\n",
    "elif mes == \"mayo\":\n",
    "    resp = \"Tauro\" if dia <= 20 else \"Géminis\"\n",
    "elif mes == \"junio\":\n",
    "    resp = \"Géminis\" if dia <= 20 else \"Cáncer\"\n",
    "elif mes == \"julio\":\n",
    "    resp = \"Cáncer\" if dia <= 22 else \"Leo\"\n",
    "elif mes == \"agosto\":\n",
    "    resp = \"Leo\" if dia <= 22 else \"Virgo\"\n",
    "elif mes == \"septiembre\":\n",
    "    resp = \"Virgo\" if dia <= 22 else \"Libra\"\n",
    "elif mes == \"octubre\":\n",
    "    resp = \"Libra\" if dia <= 22 else \"Escorpio\"\n",
    "elif mes == \"noviembre\":\n",
    "    resp = \"Escorpio\" if dia <= 21 else \"Sagitario\"\n",
    "elif mes == \"diciembre\":\n",
    "    resp = \"Sagitario\" if dia <= 21 else \"Capricornio\"\n",
    "\n",
    "print(f'Naciste el {dia} de {mes} y eres {resp}')  "
   ]
  },
  {
   "cell_type": "markdown",
   "metadata": {},
   "source": [
    "# 13. Escala de Ritcher"
   ]
  },
  {
   "cell_type": "code",
   "execution_count": 51,
   "metadata": {},
   "outputs": [
    {
     "name": "stdout",
     "output_type": "stream",
     "text": [
      "Moderate: Puede causar daños importantes en edificios mal construidos.\n"
     ]
    }
   ],
   "source": [
    "magnitud =  float(input('Entre la magnitud del terromoto:'))\n",
    "\n",
    "resp = ''\n",
    "\n",
    "if magnitud < 2.0:\n",
    "    resp =  \"Micro: Generalmente no se siente, pero es registrado.\"\n",
    "elif 2.0 <= magnitud < 3.0:\n",
    "    resp =  \"Very Minor: Generalmente no se siente, pero es registrado.\"\n",
    "elif 3.0 <= magnitud < 4.0:\n",
    "    resp =  \"Minor: A menudo se siente, pero rara vez causa daños.\"\n",
    "elif 4.0 <= magnitud < 5.0:\n",
    "    resp =  \"Light: Causa daños perceptibles a objetos no sólidos.\"\n",
    "elif 5.0 <= magnitud < 6.0:\n",
    "    resp =  \"Moderate: Puede causar daños importantes en edificios mal construidos.\"\n",
    "elif 6.0 <= magnitud < 7.0:\n",
    "    resp =  \"Strong: Puede ser destructivo en áreas hasta unos 160 kilómetros a la redonda.\"\n",
    "elif 7.0 <= magnitud < 8.0:\n",
    "    resp =  \"Major: Puede causar graves daños en áreas grandes.\"\n",
    "elif 8.0 <= magnitud < 10.0:\n",
    "    resp =  \"Great: Puede causar daños serios en áreas de varios cientos de kilómetros.\"\n",
    "else:  # magnitud >= 10.0\n",
    "    resp =  \"Meteoric: Raramente registrado, de proporciones catastróficas.\"\n",
    "\n",
    "print(resp)"
   ]
  },
  {
   "cell_type": "markdown",
   "metadata": {},
   "source": [
    "# 14. Conversión de calificación en letras a número"
   ]
  },
  {
   "cell_type": "code",
   "execution_count": 54,
   "metadata": {},
   "outputs": [
    {
     "name": "stdout",
     "output_type": "stream",
     "text": [
      "la calificación correspondiente de D- en números es 0.0\n"
     ]
    }
   ],
   "source": [
    "escalaCalificacion = {'A+' : 4.0,\n",
    "                        'A' : 4.0,\n",
    "                        'A-' : 3.7,\n",
    "                        'B' : 3.3,\n",
    "                        'B+' : 3.0,\n",
    "                        'B-' : 2.7,\n",
    "                        'C+' : 2.3,\n",
    "                        'C' : 2.0,\n",
    "                        'C-' : 1.7,\n",
    "                        'D+' : 1.3,\n",
    "                        'D+' : 1.0,\n",
    "                        'D-' : 0.0,}\n",
    "\n",
    "letra = input('Entre la letra de lacalificación ')\n",
    "\n",
    "if letra in(escalaCalificacion):\n",
    "    print(f'la calificación correspondiente de {letra} en números es {escalaCalificacion[letra]}')\n",
    "else:\n",
    "    print('Letra iválida')\n",
    "\n",
    "\n",
    "\n"
   ]
  },
  {
   "cell_type": "markdown",
   "metadata": {},
   "source": [
    "# 15. Evaluación de Empleados"
   ]
  },
  {
   "cell_type": "code",
   "execution_count": null,
   "metadata": {},
   "outputs": [],
   "source": []
  },
  {
   "cell_type": "markdown",
   "metadata": {},
   "source": [
    "# 20. Tablero de Ajedrez. ¿De qué color es ese cuadrado?"
   ]
  },
  {
   "cell_type": "code",
   "execution_count": 136,
   "metadata": {},
   "outputs": [
    {
     "name": "stdout",
     "output_type": "stream",
     "text": [
      "fila: 5, Columna: 1\n",
      "Blanco\n",
      "False\n"
     ]
    }
   ],
   "source": [
    "\"\"\" Escriba un programa que lea una posición del usuario. Use\n",
    "una declaración if para determinar si la columna comienza\n",
    "con un cuadrado negro o un cuadrado blanco. Luego usa la\n",
    "aritmética modular (a % b) para informar el color del\n",
    "cuadrado en esa fila.\n",
    "Por ejemplo, si el usuario ingresa a1, su programa debería\n",
    "informar que el cuadrado es negro. Si el usuario ingresa\n",
    "d5, su programa debe informar que el cuadrado es blanco.\n",
    "Su programa puede suponer que siempre se ingresará una\n",
    "posición válida.\n",
    "No es necesario realizar ninguna comprobación de\n",
    "errores \"\"\"\n",
    "\n",
    "columnas = ['a', 'b', 'c', 'd', 'e','f', 'g', 'h']\n",
    "\n",
    "celda = input('Entre la posición del tablaro comenzando por la letra (ejm: A1):').strip().lower()\n",
    "\n",
    "fila = celda[1]\n",
    "col = [i + 1 for i, e in enumerate(columnas) if e == celda[0]]\n",
    "\n",
    "print(f'fila: {fila}, Columna: {col[0]}')\n",
    "\n",
    "print('Negro' if col[0] % 2 == 0 and fila % 2 == 0 else 'Blanco')\n",
    "\n",
    "print(col[0] % 2 == 0 and fila % 2 == 0)\n"
   ]
  }
 ],
 "metadata": {
  "kernelspec": {
   "display_name": "Curso_python",
   "language": "python",
   "name": "python3"
  },
  "language_info": {
   "codemirror_mode": {
    "name": "ipython",
    "version": 3
   },
   "file_extension": ".py",
   "mimetype": "text/x-python",
   "name": "python",
   "nbconvert_exporter": "python",
   "pygments_lexer": "ipython3",
   "version": "3.11.9"
  }
 },
 "nbformat": 4,
 "nbformat_minor": 2
}
