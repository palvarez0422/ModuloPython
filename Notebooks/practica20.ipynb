{
 "cells": [
  {
   "cell_type": "markdown",
   "metadata": {},
   "source": [
    "# 1 y 2 - Escribir un programa que almacene las asignaturas de un curso y las muestre"
   ]
  },
  {
   "cell_type": "code",
   "execution_count": 2,
   "metadata": {},
   "outputs": [
    {
     "name": "stdout",
     "output_type": "stream",
     "text": [
      "['Matemáticas', 'Física', 'Química', 'Historia', 'Lengua']\n",
      "Yo estudio: Matemáticas\n",
      "Yo estudio: Física\n",
      "Yo estudio: Química\n",
      "Yo estudio: Historia\n",
      "Yo estudio: Lengua\n"
     ]
    }
   ],
   "source": [
    "listaMaterias = ['Matemáticas', 'Física', 'Química', 'Historia', 'Lengua']\n",
    "print(listaMaterias)\n",
    "\n",
    "for i in listaMaterias:\n",
    "    print(f'Yo estudio: {i}')\n"
   ]
  },
  {
   "cell_type": "markdown",
   "metadata": {},
   "source": [
    "# 4 - Escribir un programa que almacene en una lista los números del 1 al 10 y los muestre por pantalla en orden inverso separados por comas"
   ]
  },
  {
   "cell_type": "code",
   "execution_count": 10,
   "metadata": {},
   "outputs": [
    {
     "name": "stdout",
     "output_type": "stream",
     "text": [
      "[0, 1, 2, 3, 4, 5, 6, 7, 8, 9, 10]\n",
      "[10, 9, 8, 7, 6, 5, 4, 3, 2, 1, 0]\n",
      "10, 9, 8, 7, 6, 5, 4, 3, 2, 1, 0, "
     ]
    }
   ],
   "source": [
    "numeros = list(range(11))\n",
    "print(numeros)\n",
    "\n",
    "print(list(reversed(numeros)))\n",
    "\n",
    "# Otra forma\n",
    "for i in reversed(numeros):\n",
    "    print(i, end=', ')\n",
    "\n"
   ]
  },
  {
   "cell_type": "markdown",
   "metadata": {},
   "source": [
    "# 5 - Escribir un programa que almacene .."
   ]
  },
  {
   "cell_type": "code",
   "execution_count": 16,
   "metadata": {},
   "outputs": [
    {
     "name": "stdout",
     "output_type": "stream",
     "text": [
      "Física;Historia;\n",
      "['Física', 'Historia']\n"
     ]
    }
   ],
   "source": [
    "\"\"\" 5 - Escribir un programa que almacene las asignaturas de un curso (por\n",
    "ejemplo, Matemáticas, Física, Química, Historia y Lengua) en una lista,\n",
    "pregunte al usuario la nota que ha sacado en cada asignatura y elimine de la\n",
    "lista las asignaturas aprobadas. Al final el programa debe mostrar por\n",
    "pantalla las asignaturas que el usuario tiene que repetir. \"\"\"\n",
    "\n",
    "materias = ['Matemáticas', 'Física', 'Química', 'Historia', 'Lengua']\n",
    "notas = []\n",
    "repite = []\n",
    "\n",
    "for materia in materias:\n",
    "    notas.append(float(input(f'Que nota a sacado en {materia}? : ')))\n",
    "\n",
    "for i, n in enumerate(notas) :\n",
    "    if n < 5:\n",
    "        repite.append(i)\n",
    "\n",
    "for i in repite:\n",
    "    print(materias[i], end=';')\n",
    "print()\n",
    "\n",
    "# otra forma más eficiente: \n",
    "repite = [materias[i] for i, n in enumerate(notas) if n < 5]\n",
    "\n",
    "print(repite)"
   ]
  }
 ],
 "metadata": {
  "kernelspec": {
   "display_name": "Curso_python",
   "language": "python",
   "name": "python3"
  },
  "language_info": {
   "codemirror_mode": {
    "name": "ipython",
    "version": 3
   },
   "file_extension": ".py",
   "mimetype": "text/x-python",
   "name": "python",
   "nbconvert_exporter": "python",
   "pygments_lexer": "ipython3",
   "version": "3.11.9"
  }
 },
 "nbformat": 4,
 "nbformat_minor": 2
}
