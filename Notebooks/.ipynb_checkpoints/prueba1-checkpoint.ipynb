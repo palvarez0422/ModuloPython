{
 "cells": [
  {
   "cell_type": "markdown",
   "id": "f16a8122-f4ce-41ed-85da-ed6a767b95ba",
   "metadata": {},
   "source": [
    "# Prueba\n",
    "## Proceso 1"
   ]
  },
  {
   "cell_type": "code",
   "execution_count": 2,
   "id": "5a1a1207-901c-4a80-bcc1-cd9352c350d8",
   "metadata": {},
   "outputs": [
    {
     "name": "stdout",
     "output_type": "stream",
     "text": [
      "Hola mundo\n"
     ]
    }
   ],
   "source": [
    "print('Hola mundo')"
   ]
  },
  {
   "cell_type": "code",
   "execution_count": null,
   "id": "9cac902a-644b-417c-9d30-81fd41e30e79",
   "metadata": {},
   "outputs": [],
   "source": []
  }
 ],
 "metadata": {
  "kernelspec": {
   "display_name": "Python 3 (ipykernel)",
   "language": "python",
   "name": "python3"
  },
  "language_info": {
   "codemirror_mode": {
    "name": "ipython",
    "version": 3
   },
   "file_extension": ".py",
   "mimetype": "text/x-python",
   "name": "python",
   "nbconvert_exporter": "python",
   "pygments_lexer": "ipython3",
   "version": "3.11.9"
  }
 },
 "nbformat": 4,
 "nbformat_minor": 5
}
