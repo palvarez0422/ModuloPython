{
 "cells": [
  {
   "cell_type": "markdown",
   "metadata": {},
   "source": [
    "# 1. Escriba un programa que pregunte una y otra vez si desea continuar con el programa, siempre que se conteste exactamente sí (en minúsculas y con tilde)."
   ]
  },
  {
   "cell_type": "code",
   "execution_count": 2,
   "metadata": {},
   "outputs": [
    {
     "name": "stdout",
     "output_type": "stream",
     "text": [
      "Adios!!\n"
     ]
    }
   ],
   "source": [
    "continuar = 'sí'\n",
    "\n",
    "\n",
    "while continuar == 'sí':\n",
    "    continuar = input('Si desea continuar entre (sí), de lo contrario, presione cualquier tecla o texto:' )\n",
    "\n",
    "print('Adios!!')\n"
   ]
  },
  {
   "cell_type": "markdown",
   "metadata": {},
   "source": [
    "# 2. Escriba un programa que pregunte una y otra vez si desea terminar el programa, siempre que se conteste exactamente N (en mayúsculas)"
   ]
  },
  {
   "cell_type": "code",
   "execution_count": 4,
   "metadata": {},
   "outputs": [
    {
     "name": "stdout",
     "output_type": "stream",
     "text": [
      "Adios!!\n"
     ]
    }
   ],
   "source": [
    "terminar = ''\n",
    "\n",
    "\n",
    "while terminar != 'N':\n",
    "    terminar = input('Desea terminar el rpograma? (N) para terminar:' )\n",
    "\n",
    "print('Adios!!')"
   ]
  },
  {
   "cell_type": "markdown",
   "metadata": {},
   "source": [
    "# 3. Escriba un programa que pregunte una y otra vez si desea continuar con el programa, siempre que se conteste S o s (en mayúsculas o en minúsculas)."
   ]
  },
  {
   "cell_type": "code",
   "execution_count": 6,
   "metadata": {},
   "outputs": [
    {
     "name": "stdout",
     "output_type": "stream",
     "text": [
      "Adios!!\n"
     ]
    }
   ],
   "source": [
    "continuar = 's'\n",
    "\n",
    "\n",
    "while continuar == 's':\n",
    "    continuar = input('Desea contiuar ? (\"S\" o \"s\" ) para continuar:' ).lower()\n",
    "\n",
    "print('Adios!!')"
   ]
  },
  {
   "cell_type": "markdown",
   "metadata": {},
   "source": [
    "# 4. Escriba un programa que solicite una contraseña (el texto de la contraseña no es importante) y la vuelva a solicitar hasta que las dos contraseñas coincidan."
   ]
  },
  {
   "cell_type": "code",
   "execution_count": 17,
   "metadata": {},
   "outputs": [
    {
     "name": "stdout",
     "output_type": "stream",
     "text": [
      "La contraseña no es correcta y llegó a los intentos\n"
     ]
    }
   ],
   "source": [
    "password = 'Melon$12'\n",
    "entrada = ''\n",
    "intentos = 0\n",
    "\n",
    "while password != entrada and intentos < 3:\n",
    "    entrada = input('entre la contraseña:')\n",
    "    intentos += 1\n",
    "\n",
    "print(f'Bienvenido a los {intentos} intentos') if intentos <= 3 else print('La contraseña no es correcta y llegó a los intentos')"
   ]
  },
  {
   "cell_type": "markdown",
   "metadata": {},
   "source": [
    "# 5. Escriba un programa que simule una hucha"
   ]
  },
  {
   "cell_type": "code",
   "execution_count": 19,
   "metadata": {},
   "outputs": [
    {
     "name": "stdout",
     "output_type": "stream",
     "text": [
      "FeLICIDADES!!!. has ahorrado 6000.0 superando o igualado el objetivo de ahorro inicial\n"
     ]
    }
   ],
   "source": [
    "\"\"\" Escriba un programa que simule una hucha. El programa solicitará primero una cantidad, que será\n",
    "la cantidad de dinero que queremos ahorrar. A continuación, el programa solicitará una y otra vez las\n",
    "cantidades que se irán ahorrando, hasta que el total ahorrado iguale o supere al objetivo. El\n",
    "programa no comprobará que las cantidades sean positivas. \"\"\"\n",
    "\n",
    "objetivoAhorro = float(input('Entre la cantidad objetivo para desea ahorrar:'))\n",
    "cantidad = 0\n",
    "\n",
    "\n",
    "while objetivoAhorro >= cantidad:\n",
    "    cantidad += float(input('Entre la cantidad para ingresar en la hucha:'))\n",
    "\n",
    "print(f'FeLICIDADES!!!. has ahorrado {cantidad} superando o igualado el objetivo de {objetivoAhorro} de ahorro inicial')\n"
   ]
  },
  {
   "cell_type": "markdown",
   "metadata": {},
   "source": [
    "# 6. Escriba un programa que mejore la simulación de la hucha del ejercicio anterior, no permitiendo que se escriban cantidades negativas.."
   ]
  },
  {
   "cell_type": "code",
   "execution_count": 20,
   "metadata": {},
   "outputs": [
    {
     "name": "stdout",
     "output_type": "stream",
     "text": [
      "el valor del ahorro debe ser mayor que 0\n",
      "el valor del ahorro debe ser mayor que 0\n",
      "FeLICIDADES!!!. has ahorrado 4000.0 superando o igualado el objetivo de 5000.0 de ahorro inicial\n"
     ]
    }
   ],
   "source": [
    "objetivoAhorro = float(input('Entre la cantidad objetivo para desea ahorrar:'))\n",
    "ahorro = 0\n",
    "\n",
    "\n",
    "while objetivoAhorro >= ahorro:\n",
    "    cantidad = float(input('Entre la cantidad para ingresar en la hucha:'))\n",
    "    if cantidad <= 0:\n",
    "        print('el valor del ahorro debe ser mayor que 0')\n",
    "    else:\n",
    "        ahorro += cantidad\n",
    "\n",
    "print(f'FeLICIDADES!!!. has ahorrado {ahorro} superando o igualado el objetivo de {objetivoAhorro} de ahorro inicial')"
   ]
  },
  {
   "cell_type": "markdown",
   "metadata": {},
   "source": [
    "# 10. Escriba un programa que lea los números enteros positivos de teclado, hasta que el usuario ingrese el 0. Informar cuál fue el mayor número ingresado."
   ]
  },
  {
   "cell_type": "code",
   "execution_count": 31,
   "metadata": {},
   "outputs": [
    {
     "name": "stdout",
     "output_type": "stream",
     "text": [
      "[-1, -4, 4, 3, -9, -5]\n",
      "(La suma de los enteros es -12), el mayor de los número entrados es 4 y la suma de los número potivos es 7\n"
     ]
    }
   ],
   "source": [
    "'''Aqui convinaré varios casos descritos en los puntos 8 9 y 10'''\n",
    "\n",
    "enteros = []\n",
    "entero = 1\n",
    "\n",
    "while entero != 0:\n",
    "    entero = int(input('Entre un numero entero '))\n",
    "    enteros.append(entero) if entero != 0 else enteros\n",
    "\n",
    "print(enteros)\n",
    "print(f'(La suma de los enteros es {sum(enteros)}), el mayor de los número entrados es {max(enteros)} y la suma de los número potivos es {sum(filter(lambda n:n > 0, enteros)) }')"
   ]
  }
 ],
 "metadata": {
  "kernelspec": {
   "display_name": "Curso_python",
   "language": "python",
   "name": "python3"
  },
  "language_info": {
   "codemirror_mode": {
    "name": "ipython",
    "version": 3
   },
   "file_extension": ".py",
   "mimetype": "text/x-python",
   "name": "python",
   "nbconvert_exporter": "python",
   "pygments_lexer": "ipython3",
   "version": "3.11.9"
  }
 },
 "nbformat": 4,
 "nbformat_minor": 2
}
